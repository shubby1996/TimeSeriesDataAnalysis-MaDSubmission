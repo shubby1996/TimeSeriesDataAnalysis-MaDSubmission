{
  "cells": [
    {
      "cell_type": "code",
      "source": [
        "from google.colab import drive\n",
        "drive.mount('/content/drive')"
      ],
      "metadata": {
        "colab": {
          "base_uri": "https://localhost:8080/"
        },
        "id": "B19B0b1kHrl1",
        "outputId": "76cc8546-5c90-4d69-87d7-518b7b4d6844"
      },
      "id": "B19B0b1kHrl1",
      "execution_count": 1,
      "outputs": [
        {
          "output_type": "stream",
          "name": "stdout",
          "text": [
            "Mounted at /content/drive\n"
          ]
        }
      ]
    },
    {
      "cell_type": "code",
      "source": [
        "#Code along with Greg Hogg"
      ],
      "metadata": {
        "id": "SCVqfrFlCLSn"
      },
      "id": "SCVqfrFlCLSn",
      "execution_count": 2,
      "outputs": []
    },
    {
      "cell_type": "code",
      "source": [
        "'''\n",
        "References: https://www.youtube.com/watch?v=q_HS4s1L8UI&list=PLKYEe2WisBTHmsTdhjaQydI58tI7pFCDT&index=3\n",
        "'''"
      ],
      "metadata": {
        "id": "fTYEsEKfCZbi",
        "outputId": "d7167a0a-f1a0-43e4-e3e8-c5ada36476c2",
        "colab": {
          "base_uri": "https://localhost:8080/",
          "height": 35
        }
      },
      "id": "fTYEsEKfCZbi",
      "execution_count": 3,
      "outputs": [
        {
          "output_type": "execute_result",
          "data": {
            "text/plain": [
              "'\\nReferences: https://www.youtube.com/watch?v=q_HS4s1L8UI&list=PLKYEe2WisBTHmsTdhjaQydI58tI7pFCDT&index=3\\n'"
            ],
            "application/vnd.google.colaboratory.intrinsic+json": {
              "type": "string"
            }
          },
          "metadata": {},
          "execution_count": 3
        }
      ]
    },
    {
      "cell_type": "code",
      "execution_count": 4,
      "id": "2a4fdd0f",
      "metadata": {
        "id": "2a4fdd0f",
        "colab": {
          "base_uri": "https://localhost:8080/",
          "height": 424
        },
        "outputId": "8332a2ca-e632-4d90-9d54-6a68e15a396c"
      },
      "outputs": [
        {
          "output_type": "execute_result",
          "data": {
            "text/plain": [
              "            Date        Open        High         Low       Close   Adj Close  \\\n",
              "0     1997-05-15    0.121875    0.125000    0.096354    0.097917    0.097917   \n",
              "1     1997-05-16    0.098438    0.098958    0.085417    0.086458    0.086458   \n",
              "2     1997-05-19    0.088021    0.088542    0.081250    0.085417    0.085417   \n",
              "3     1997-05-20    0.086458    0.087500    0.081771    0.081771    0.081771   \n",
              "4     1997-05-21    0.081771    0.082292    0.068750    0.071354    0.071354   \n",
              "...          ...         ...         ...         ...         ...         ...   \n",
              "6511  2023-03-30  101.550003  103.040001  101.010002  102.000000  102.000000   \n",
              "6512  2023-03-31  102.160004  103.489998  101.949997  103.290001  103.290001   \n",
              "6513  2023-04-03  102.300003  103.290001  101.430000  102.410004  102.410004   \n",
              "6514  2023-04-04  102.750000  104.199997  102.110001  103.949997  103.949997   \n",
              "6515  2023-04-05  103.910004  103.910004  100.750000  101.099998  101.099998   \n",
              "\n",
              "          Volume  \n",
              "0     1443120000  \n",
              "1      294000000  \n",
              "2      122136000  \n",
              "3      109344000  \n",
              "4      377064000  \n",
              "...          ...  \n",
              "6511    53633400  \n",
              "6512    56704300  \n",
              "6513    41135700  \n",
              "6514    48662500  \n",
              "6515    45103000  \n",
              "\n",
              "[6516 rows x 7 columns]"
            ],
            "text/html": [
              "\n",
              "  <div id=\"df-80b01088-523f-4e2b-9f27-83b7244efe95\" class=\"colab-df-container\">\n",
              "    <div>\n",
              "<style scoped>\n",
              "    .dataframe tbody tr th:only-of-type {\n",
              "        vertical-align: middle;\n",
              "    }\n",
              "\n",
              "    .dataframe tbody tr th {\n",
              "        vertical-align: top;\n",
              "    }\n",
              "\n",
              "    .dataframe thead th {\n",
              "        text-align: right;\n",
              "    }\n",
              "</style>\n",
              "<table border=\"1\" class=\"dataframe\">\n",
              "  <thead>\n",
              "    <tr style=\"text-align: right;\">\n",
              "      <th></th>\n",
              "      <th>Date</th>\n",
              "      <th>Open</th>\n",
              "      <th>High</th>\n",
              "      <th>Low</th>\n",
              "      <th>Close</th>\n",
              "      <th>Adj Close</th>\n",
              "      <th>Volume</th>\n",
              "    </tr>\n",
              "  </thead>\n",
              "  <tbody>\n",
              "    <tr>\n",
              "      <th>0</th>\n",
              "      <td>1997-05-15</td>\n",
              "      <td>0.121875</td>\n",
              "      <td>0.125000</td>\n",
              "      <td>0.096354</td>\n",
              "      <td>0.097917</td>\n",
              "      <td>0.097917</td>\n",
              "      <td>1443120000</td>\n",
              "    </tr>\n",
              "    <tr>\n",
              "      <th>1</th>\n",
              "      <td>1997-05-16</td>\n",
              "      <td>0.098438</td>\n",
              "      <td>0.098958</td>\n",
              "      <td>0.085417</td>\n",
              "      <td>0.086458</td>\n",
              "      <td>0.086458</td>\n",
              "      <td>294000000</td>\n",
              "    </tr>\n",
              "    <tr>\n",
              "      <th>2</th>\n",
              "      <td>1997-05-19</td>\n",
              "      <td>0.088021</td>\n",
              "      <td>0.088542</td>\n",
              "      <td>0.081250</td>\n",
              "      <td>0.085417</td>\n",
              "      <td>0.085417</td>\n",
              "      <td>122136000</td>\n",
              "    </tr>\n",
              "    <tr>\n",
              "      <th>3</th>\n",
              "      <td>1997-05-20</td>\n",
              "      <td>0.086458</td>\n",
              "      <td>0.087500</td>\n",
              "      <td>0.081771</td>\n",
              "      <td>0.081771</td>\n",
              "      <td>0.081771</td>\n",
              "      <td>109344000</td>\n",
              "    </tr>\n",
              "    <tr>\n",
              "      <th>4</th>\n",
              "      <td>1997-05-21</td>\n",
              "      <td>0.081771</td>\n",
              "      <td>0.082292</td>\n",
              "      <td>0.068750</td>\n",
              "      <td>0.071354</td>\n",
              "      <td>0.071354</td>\n",
              "      <td>377064000</td>\n",
              "    </tr>\n",
              "    <tr>\n",
              "      <th>...</th>\n",
              "      <td>...</td>\n",
              "      <td>...</td>\n",
              "      <td>...</td>\n",
              "      <td>...</td>\n",
              "      <td>...</td>\n",
              "      <td>...</td>\n",
              "      <td>...</td>\n",
              "    </tr>\n",
              "    <tr>\n",
              "      <th>6511</th>\n",
              "      <td>2023-03-30</td>\n",
              "      <td>101.550003</td>\n",
              "      <td>103.040001</td>\n",
              "      <td>101.010002</td>\n",
              "      <td>102.000000</td>\n",
              "      <td>102.000000</td>\n",
              "      <td>53633400</td>\n",
              "    </tr>\n",
              "    <tr>\n",
              "      <th>6512</th>\n",
              "      <td>2023-03-31</td>\n",
              "      <td>102.160004</td>\n",
              "      <td>103.489998</td>\n",
              "      <td>101.949997</td>\n",
              "      <td>103.290001</td>\n",
              "      <td>103.290001</td>\n",
              "      <td>56704300</td>\n",
              "    </tr>\n",
              "    <tr>\n",
              "      <th>6513</th>\n",
              "      <td>2023-04-03</td>\n",
              "      <td>102.300003</td>\n",
              "      <td>103.290001</td>\n",
              "      <td>101.430000</td>\n",
              "      <td>102.410004</td>\n",
              "      <td>102.410004</td>\n",
              "      <td>41135700</td>\n",
              "    </tr>\n",
              "    <tr>\n",
              "      <th>6514</th>\n",
              "      <td>2023-04-04</td>\n",
              "      <td>102.750000</td>\n",
              "      <td>104.199997</td>\n",
              "      <td>102.110001</td>\n",
              "      <td>103.949997</td>\n",
              "      <td>103.949997</td>\n",
              "      <td>48662500</td>\n",
              "    </tr>\n",
              "    <tr>\n",
              "      <th>6515</th>\n",
              "      <td>2023-04-05</td>\n",
              "      <td>103.910004</td>\n",
              "      <td>103.910004</td>\n",
              "      <td>100.750000</td>\n",
              "      <td>101.099998</td>\n",
              "      <td>101.099998</td>\n",
              "      <td>45103000</td>\n",
              "    </tr>\n",
              "  </tbody>\n",
              "</table>\n",
              "<p>6516 rows × 7 columns</p>\n",
              "</div>\n",
              "    <div class=\"colab-df-buttons\">\n",
              "\n",
              "  <div class=\"colab-df-container\">\n",
              "    <button class=\"colab-df-convert\" onclick=\"convertToInteractive('df-80b01088-523f-4e2b-9f27-83b7244efe95')\"\n",
              "            title=\"Convert this dataframe to an interactive table.\"\n",
              "            style=\"display:none;\">\n",
              "\n",
              "  <svg xmlns=\"http://www.w3.org/2000/svg\" height=\"24px\" viewBox=\"0 -960 960 960\">\n",
              "    <path d=\"M120-120v-720h720v720H120Zm60-500h600v-160H180v160Zm220 220h160v-160H400v160Zm0 220h160v-160H400v160ZM180-400h160v-160H180v160Zm440 0h160v-160H620v160ZM180-180h160v-160H180v160Zm440 0h160v-160H620v160Z\"/>\n",
              "  </svg>\n",
              "    </button>\n",
              "\n",
              "  <style>\n",
              "    .colab-df-container {\n",
              "      display:flex;\n",
              "      gap: 12px;\n",
              "    }\n",
              "\n",
              "    .colab-df-convert {\n",
              "      background-color: #E8F0FE;\n",
              "      border: none;\n",
              "      border-radius: 50%;\n",
              "      cursor: pointer;\n",
              "      display: none;\n",
              "      fill: #1967D2;\n",
              "      height: 32px;\n",
              "      padding: 0 0 0 0;\n",
              "      width: 32px;\n",
              "    }\n",
              "\n",
              "    .colab-df-convert:hover {\n",
              "      background-color: #E2EBFA;\n",
              "      box-shadow: 0px 1px 2px rgba(60, 64, 67, 0.3), 0px 1px 3px 1px rgba(60, 64, 67, 0.15);\n",
              "      fill: #174EA6;\n",
              "    }\n",
              "\n",
              "    .colab-df-buttons div {\n",
              "      margin-bottom: 4px;\n",
              "    }\n",
              "\n",
              "    [theme=dark] .colab-df-convert {\n",
              "      background-color: #3B4455;\n",
              "      fill: #D2E3FC;\n",
              "    }\n",
              "\n",
              "    [theme=dark] .colab-df-convert:hover {\n",
              "      background-color: #434B5C;\n",
              "      box-shadow: 0px 1px 3px 1px rgba(0, 0, 0, 0.15);\n",
              "      filter: drop-shadow(0px 1px 2px rgba(0, 0, 0, 0.3));\n",
              "      fill: #FFFFFF;\n",
              "    }\n",
              "  </style>\n",
              "\n",
              "    <script>\n",
              "      const buttonEl =\n",
              "        document.querySelector('#df-80b01088-523f-4e2b-9f27-83b7244efe95 button.colab-df-convert');\n",
              "      buttonEl.style.display =\n",
              "        google.colab.kernel.accessAllowed ? 'block' : 'none';\n",
              "\n",
              "      async function convertToInteractive(key) {\n",
              "        const element = document.querySelector('#df-80b01088-523f-4e2b-9f27-83b7244efe95');\n",
              "        const dataTable =\n",
              "          await google.colab.kernel.invokeFunction('convertToInteractive',\n",
              "                                                    [key], {});\n",
              "        if (!dataTable) return;\n",
              "\n",
              "        const docLinkHtml = 'Like what you see? Visit the ' +\n",
              "          '<a target=\"_blank\" href=https://colab.research.google.com/notebooks/data_table.ipynb>data table notebook</a>'\n",
              "          + ' to learn more about interactive tables.';\n",
              "        element.innerHTML = '';\n",
              "        dataTable['output_type'] = 'display_data';\n",
              "        await google.colab.output.renderOutput(dataTable, element);\n",
              "        const docLink = document.createElement('div');\n",
              "        docLink.innerHTML = docLinkHtml;\n",
              "        element.appendChild(docLink);\n",
              "      }\n",
              "    </script>\n",
              "  </div>\n",
              "\n",
              "\n",
              "<div id=\"df-0f55d3e6-37d3-44ab-9135-d309e56d1edb\">\n",
              "  <button class=\"colab-df-quickchart\" onclick=\"quickchart('df-0f55d3e6-37d3-44ab-9135-d309e56d1edb')\"\n",
              "            title=\"Suggest charts\"\n",
              "            style=\"display:none;\">\n",
              "\n",
              "<svg xmlns=\"http://www.w3.org/2000/svg\" height=\"24px\"viewBox=\"0 0 24 24\"\n",
              "     width=\"24px\">\n",
              "    <g>\n",
              "        <path d=\"M19 3H5c-1.1 0-2 .9-2 2v14c0 1.1.9 2 2 2h14c1.1 0 2-.9 2-2V5c0-1.1-.9-2-2-2zM9 17H7v-7h2v7zm4 0h-2V7h2v10zm4 0h-2v-4h2v4z\"/>\n",
              "    </g>\n",
              "</svg>\n",
              "  </button>\n",
              "\n",
              "<style>\n",
              "  .colab-df-quickchart {\n",
              "      --bg-color: #E8F0FE;\n",
              "      --fill-color: #1967D2;\n",
              "      --hover-bg-color: #E2EBFA;\n",
              "      --hover-fill-color: #174EA6;\n",
              "      --disabled-fill-color: #AAA;\n",
              "      --disabled-bg-color: #DDD;\n",
              "  }\n",
              "\n",
              "  [theme=dark] .colab-df-quickchart {\n",
              "      --bg-color: #3B4455;\n",
              "      --fill-color: #D2E3FC;\n",
              "      --hover-bg-color: #434B5C;\n",
              "      --hover-fill-color: #FFFFFF;\n",
              "      --disabled-bg-color: #3B4455;\n",
              "      --disabled-fill-color: #666;\n",
              "  }\n",
              "\n",
              "  .colab-df-quickchart {\n",
              "    background-color: var(--bg-color);\n",
              "    border: none;\n",
              "    border-radius: 50%;\n",
              "    cursor: pointer;\n",
              "    display: none;\n",
              "    fill: var(--fill-color);\n",
              "    height: 32px;\n",
              "    padding: 0;\n",
              "    width: 32px;\n",
              "  }\n",
              "\n",
              "  .colab-df-quickchart:hover {\n",
              "    background-color: var(--hover-bg-color);\n",
              "    box-shadow: 0 1px 2px rgba(60, 64, 67, 0.3), 0 1px 3px 1px rgba(60, 64, 67, 0.15);\n",
              "    fill: var(--button-hover-fill-color);\n",
              "  }\n",
              "\n",
              "  .colab-df-quickchart-complete:disabled,\n",
              "  .colab-df-quickchart-complete:disabled:hover {\n",
              "    background-color: var(--disabled-bg-color);\n",
              "    fill: var(--disabled-fill-color);\n",
              "    box-shadow: none;\n",
              "  }\n",
              "\n",
              "  .colab-df-spinner {\n",
              "    border: 2px solid var(--fill-color);\n",
              "    border-color: transparent;\n",
              "    border-bottom-color: var(--fill-color);\n",
              "    animation:\n",
              "      spin 1s steps(1) infinite;\n",
              "  }\n",
              "\n",
              "  @keyframes spin {\n",
              "    0% {\n",
              "      border-color: transparent;\n",
              "      border-bottom-color: var(--fill-color);\n",
              "      border-left-color: var(--fill-color);\n",
              "    }\n",
              "    20% {\n",
              "      border-color: transparent;\n",
              "      border-left-color: var(--fill-color);\n",
              "      border-top-color: var(--fill-color);\n",
              "    }\n",
              "    30% {\n",
              "      border-color: transparent;\n",
              "      border-left-color: var(--fill-color);\n",
              "      border-top-color: var(--fill-color);\n",
              "      border-right-color: var(--fill-color);\n",
              "    }\n",
              "    40% {\n",
              "      border-color: transparent;\n",
              "      border-right-color: var(--fill-color);\n",
              "      border-top-color: var(--fill-color);\n",
              "    }\n",
              "    60% {\n",
              "      border-color: transparent;\n",
              "      border-right-color: var(--fill-color);\n",
              "    }\n",
              "    80% {\n",
              "      border-color: transparent;\n",
              "      border-right-color: var(--fill-color);\n",
              "      border-bottom-color: var(--fill-color);\n",
              "    }\n",
              "    90% {\n",
              "      border-color: transparent;\n",
              "      border-bottom-color: var(--fill-color);\n",
              "    }\n",
              "  }\n",
              "</style>\n",
              "\n",
              "  <script>\n",
              "    async function quickchart(key) {\n",
              "      const quickchartButtonEl =\n",
              "        document.querySelector('#' + key + ' button');\n",
              "      quickchartButtonEl.disabled = true;  // To prevent multiple clicks.\n",
              "      quickchartButtonEl.classList.add('colab-df-spinner');\n",
              "      try {\n",
              "        const charts = await google.colab.kernel.invokeFunction(\n",
              "            'suggestCharts', [key], {});\n",
              "      } catch (error) {\n",
              "        console.error('Error during call to suggestCharts:', error);\n",
              "      }\n",
              "      quickchartButtonEl.classList.remove('colab-df-spinner');\n",
              "      quickchartButtonEl.classList.add('colab-df-quickchart-complete');\n",
              "    }\n",
              "    (() => {\n",
              "      let quickchartButtonEl =\n",
              "        document.querySelector('#df-0f55d3e6-37d3-44ab-9135-d309e56d1edb button');\n",
              "      quickchartButtonEl.style.display =\n",
              "        google.colab.kernel.accessAllowed ? 'block' : 'none';\n",
              "    })();\n",
              "  </script>\n",
              "</div>\n",
              "    </div>\n",
              "  </div>\n"
            ],
            "application/vnd.google.colaboratory.intrinsic+json": {
              "type": "dataframe",
              "variable_name": "data",
              "summary": "{\n  \"name\": \"data\",\n  \"rows\": 6516,\n  \"fields\": [\n    {\n      \"column\": \"Date\",\n      \"properties\": {\n        \"dtype\": \"object\",\n        \"num_unique_values\": 6516,\n        \"samples\": [\n          \"2020-12-11\",\n          \"2004-10-25\",\n          \"2001-05-07\"\n        ],\n        \"semantic_type\": \"\",\n        \"description\": \"\"\n      }\n    },\n    {\n      \"column\": \"Open\",\n      \"properties\": {\n        \"dtype\": \"number\",\n        \"std\": 48.09534261371011,\n        \"min\": 0.070313,\n        \"max\": 187.199997,\n        \"num_unique_values\": 5793,\n        \"samples\": [\n          1.3215,\n          1.9245,\n          0.9335\n        ],\n        \"semantic_type\": \"\",\n        \"description\": \"\"\n      }\n    },\n    {\n      \"column\": \"High\",\n      \"properties\": {\n        \"dtype\": \"number\",\n        \"std\": 48.659651412037995,\n        \"min\": 0.072396,\n        \"max\": 188.654007,\n        \"num_unique_values\": 5752,\n        \"samples\": [\n          4.805,\n          152.906494,\n          15.011\n        ],\n        \"semantic_type\": \"\",\n        \"description\": \"\"\n      }\n    },\n    {\n      \"column\": \"Low\",\n      \"properties\": {\n        \"dtype\": \"number\",\n        \"std\": 47.46447631003133,\n        \"min\": 0.065625,\n        \"max\": 184.839493,\n        \"num_unique_values\": 5756,\n        \"samples\": [\n          2.21,\n          89.363998,\n          42.525501\n        ],\n        \"semantic_type\": \"\",\n        \"description\": \"\"\n      }\n    },\n    {\n      \"column\": \"Close\",\n      \"properties\": {\n        \"dtype\": \"number\",\n        \"std\": 48.06025829174995,\n        \"min\": 0.069792,\n        \"max\": 186.570496,\n        \"num_unique_values\": 5899,\n        \"samples\": [\n          133.220001,\n          1.8475,\n          2.3005\n        ],\n        \"semantic_type\": \"\",\n        \"description\": \"\"\n      }\n    },\n    {\n      \"column\": \"Adj Close\",\n      \"properties\": {\n        \"dtype\": \"number\",\n        \"std\": 48.06025829174995,\n        \"min\": 0.069792,\n        \"max\": 186.570496,\n        \"num_unique_values\": 5899,\n        \"samples\": [\n          133.220001,\n          1.8475,\n          2.3005\n        ],\n        \"semantic_type\": \"\",\n        \"description\": \"\"\n      }\n    },\n    {\n      \"column\": \"Volume\",\n      \"properties\": {\n        \"dtype\": \"number\",\n        \"std\": 140161943,\n        \"min\": 9744000,\n        \"max\": 2086584000,\n        \"num_unique_values\": 6324,\n        \"samples\": [\n          645424000,\n          461112000,\n          62752000\n        ],\n        \"semantic_type\": \"\",\n        \"description\": \"\"\n      }\n    }\n  ]\n}"
            }
          },
          "metadata": {},
          "execution_count": 4
        }
      ],
      "source": [
        "import pandas as pd\n",
        "import numpy as np\n",
        "import matplotlib.pyplot as plt\n",
        "\n",
        "import torch\n",
        "import torch.nn as nn\n",
        "\n",
        "data = pd.read_csv('/content/drive/MyDrive/Colab Notebooks/AMZN.csv')\n",
        "\n",
        "\n",
        "data"
      ]
    },
    {
      "cell_type": "code",
      "source": [
        "data = data[['Date', 'Close']]\n",
        "data"
      ],
      "metadata": {
        "colab": {
          "base_uri": "https://localhost:8080/",
          "height": 424
        },
        "id": "WtCP8-cDbg9R",
        "outputId": "57b58e1b-d9c7-439e-e663-fc7b20fe533e"
      },
      "id": "WtCP8-cDbg9R",
      "execution_count": 5,
      "outputs": [
        {
          "output_type": "execute_result",
          "data": {
            "text/plain": [
              "            Date       Close\n",
              "0     1997-05-15    0.097917\n",
              "1     1997-05-16    0.086458\n",
              "2     1997-05-19    0.085417\n",
              "3     1997-05-20    0.081771\n",
              "4     1997-05-21    0.071354\n",
              "...          ...         ...\n",
              "6511  2023-03-30  102.000000\n",
              "6512  2023-03-31  103.290001\n",
              "6513  2023-04-03  102.410004\n",
              "6514  2023-04-04  103.949997\n",
              "6515  2023-04-05  101.099998\n",
              "\n",
              "[6516 rows x 2 columns]"
            ],
            "text/html": [
              "\n",
              "  <div id=\"df-1963b287-e121-4bb9-9a47-32a4c9362215\" class=\"colab-df-container\">\n",
              "    <div>\n",
              "<style scoped>\n",
              "    .dataframe tbody tr th:only-of-type {\n",
              "        vertical-align: middle;\n",
              "    }\n",
              "\n",
              "    .dataframe tbody tr th {\n",
              "        vertical-align: top;\n",
              "    }\n",
              "\n",
              "    .dataframe thead th {\n",
              "        text-align: right;\n",
              "    }\n",
              "</style>\n",
              "<table border=\"1\" class=\"dataframe\">\n",
              "  <thead>\n",
              "    <tr style=\"text-align: right;\">\n",
              "      <th></th>\n",
              "      <th>Date</th>\n",
              "      <th>Close</th>\n",
              "    </tr>\n",
              "  </thead>\n",
              "  <tbody>\n",
              "    <tr>\n",
              "      <th>0</th>\n",
              "      <td>1997-05-15</td>\n",
              "      <td>0.097917</td>\n",
              "    </tr>\n",
              "    <tr>\n",
              "      <th>1</th>\n",
              "      <td>1997-05-16</td>\n",
              "      <td>0.086458</td>\n",
              "    </tr>\n",
              "    <tr>\n",
              "      <th>2</th>\n",
              "      <td>1997-05-19</td>\n",
              "      <td>0.085417</td>\n",
              "    </tr>\n",
              "    <tr>\n",
              "      <th>3</th>\n",
              "      <td>1997-05-20</td>\n",
              "      <td>0.081771</td>\n",
              "    </tr>\n",
              "    <tr>\n",
              "      <th>4</th>\n",
              "      <td>1997-05-21</td>\n",
              "      <td>0.071354</td>\n",
              "    </tr>\n",
              "    <tr>\n",
              "      <th>...</th>\n",
              "      <td>...</td>\n",
              "      <td>...</td>\n",
              "    </tr>\n",
              "    <tr>\n",
              "      <th>6511</th>\n",
              "      <td>2023-03-30</td>\n",
              "      <td>102.000000</td>\n",
              "    </tr>\n",
              "    <tr>\n",
              "      <th>6512</th>\n",
              "      <td>2023-03-31</td>\n",
              "      <td>103.290001</td>\n",
              "    </tr>\n",
              "    <tr>\n",
              "      <th>6513</th>\n",
              "      <td>2023-04-03</td>\n",
              "      <td>102.410004</td>\n",
              "    </tr>\n",
              "    <tr>\n",
              "      <th>6514</th>\n",
              "      <td>2023-04-04</td>\n",
              "      <td>103.949997</td>\n",
              "    </tr>\n",
              "    <tr>\n",
              "      <th>6515</th>\n",
              "      <td>2023-04-05</td>\n",
              "      <td>101.099998</td>\n",
              "    </tr>\n",
              "  </tbody>\n",
              "</table>\n",
              "<p>6516 rows × 2 columns</p>\n",
              "</div>\n",
              "    <div class=\"colab-df-buttons\">\n",
              "\n",
              "  <div class=\"colab-df-container\">\n",
              "    <button class=\"colab-df-convert\" onclick=\"convertToInteractive('df-1963b287-e121-4bb9-9a47-32a4c9362215')\"\n",
              "            title=\"Convert this dataframe to an interactive table.\"\n",
              "            style=\"display:none;\">\n",
              "\n",
              "  <svg xmlns=\"http://www.w3.org/2000/svg\" height=\"24px\" viewBox=\"0 -960 960 960\">\n",
              "    <path d=\"M120-120v-720h720v720H120Zm60-500h600v-160H180v160Zm220 220h160v-160H400v160Zm0 220h160v-160H400v160ZM180-400h160v-160H180v160Zm440 0h160v-160H620v160ZM180-180h160v-160H180v160Zm440 0h160v-160H620v160Z\"/>\n",
              "  </svg>\n",
              "    </button>\n",
              "\n",
              "  <style>\n",
              "    .colab-df-container {\n",
              "      display:flex;\n",
              "      gap: 12px;\n",
              "    }\n",
              "\n",
              "    .colab-df-convert {\n",
              "      background-color: #E8F0FE;\n",
              "      border: none;\n",
              "      border-radius: 50%;\n",
              "      cursor: pointer;\n",
              "      display: none;\n",
              "      fill: #1967D2;\n",
              "      height: 32px;\n",
              "      padding: 0 0 0 0;\n",
              "      width: 32px;\n",
              "    }\n",
              "\n",
              "    .colab-df-convert:hover {\n",
              "      background-color: #E2EBFA;\n",
              "      box-shadow: 0px 1px 2px rgba(60, 64, 67, 0.3), 0px 1px 3px 1px rgba(60, 64, 67, 0.15);\n",
              "      fill: #174EA6;\n",
              "    }\n",
              "\n",
              "    .colab-df-buttons div {\n",
              "      margin-bottom: 4px;\n",
              "    }\n",
              "\n",
              "    [theme=dark] .colab-df-convert {\n",
              "      background-color: #3B4455;\n",
              "      fill: #D2E3FC;\n",
              "    }\n",
              "\n",
              "    [theme=dark] .colab-df-convert:hover {\n",
              "      background-color: #434B5C;\n",
              "      box-shadow: 0px 1px 3px 1px rgba(0, 0, 0, 0.15);\n",
              "      filter: drop-shadow(0px 1px 2px rgba(0, 0, 0, 0.3));\n",
              "      fill: #FFFFFF;\n",
              "    }\n",
              "  </style>\n",
              "\n",
              "    <script>\n",
              "      const buttonEl =\n",
              "        document.querySelector('#df-1963b287-e121-4bb9-9a47-32a4c9362215 button.colab-df-convert');\n",
              "      buttonEl.style.display =\n",
              "        google.colab.kernel.accessAllowed ? 'block' : 'none';\n",
              "\n",
              "      async function convertToInteractive(key) {\n",
              "        const element = document.querySelector('#df-1963b287-e121-4bb9-9a47-32a4c9362215');\n",
              "        const dataTable =\n",
              "          await google.colab.kernel.invokeFunction('convertToInteractive',\n",
              "                                                    [key], {});\n",
              "        if (!dataTable) return;\n",
              "\n",
              "        const docLinkHtml = 'Like what you see? Visit the ' +\n",
              "          '<a target=\"_blank\" href=https://colab.research.google.com/notebooks/data_table.ipynb>data table notebook</a>'\n",
              "          + ' to learn more about interactive tables.';\n",
              "        element.innerHTML = '';\n",
              "        dataTable['output_type'] = 'display_data';\n",
              "        await google.colab.output.renderOutput(dataTable, element);\n",
              "        const docLink = document.createElement('div');\n",
              "        docLink.innerHTML = docLinkHtml;\n",
              "        element.appendChild(docLink);\n",
              "      }\n",
              "    </script>\n",
              "  </div>\n",
              "\n",
              "\n",
              "<div id=\"df-737ea125-fbd0-42a8-971e-ffe60a2d7e75\">\n",
              "  <button class=\"colab-df-quickchart\" onclick=\"quickchart('df-737ea125-fbd0-42a8-971e-ffe60a2d7e75')\"\n",
              "            title=\"Suggest charts\"\n",
              "            style=\"display:none;\">\n",
              "\n",
              "<svg xmlns=\"http://www.w3.org/2000/svg\" height=\"24px\"viewBox=\"0 0 24 24\"\n",
              "     width=\"24px\">\n",
              "    <g>\n",
              "        <path d=\"M19 3H5c-1.1 0-2 .9-2 2v14c0 1.1.9 2 2 2h14c1.1 0 2-.9 2-2V5c0-1.1-.9-2-2-2zM9 17H7v-7h2v7zm4 0h-2V7h2v10zm4 0h-2v-4h2v4z\"/>\n",
              "    </g>\n",
              "</svg>\n",
              "  </button>\n",
              "\n",
              "<style>\n",
              "  .colab-df-quickchart {\n",
              "      --bg-color: #E8F0FE;\n",
              "      --fill-color: #1967D2;\n",
              "      --hover-bg-color: #E2EBFA;\n",
              "      --hover-fill-color: #174EA6;\n",
              "      --disabled-fill-color: #AAA;\n",
              "      --disabled-bg-color: #DDD;\n",
              "  }\n",
              "\n",
              "  [theme=dark] .colab-df-quickchart {\n",
              "      --bg-color: #3B4455;\n",
              "      --fill-color: #D2E3FC;\n",
              "      --hover-bg-color: #434B5C;\n",
              "      --hover-fill-color: #FFFFFF;\n",
              "      --disabled-bg-color: #3B4455;\n",
              "      --disabled-fill-color: #666;\n",
              "  }\n",
              "\n",
              "  .colab-df-quickchart {\n",
              "    background-color: var(--bg-color);\n",
              "    border: none;\n",
              "    border-radius: 50%;\n",
              "    cursor: pointer;\n",
              "    display: none;\n",
              "    fill: var(--fill-color);\n",
              "    height: 32px;\n",
              "    padding: 0;\n",
              "    width: 32px;\n",
              "  }\n",
              "\n",
              "  .colab-df-quickchart:hover {\n",
              "    background-color: var(--hover-bg-color);\n",
              "    box-shadow: 0 1px 2px rgba(60, 64, 67, 0.3), 0 1px 3px 1px rgba(60, 64, 67, 0.15);\n",
              "    fill: var(--button-hover-fill-color);\n",
              "  }\n",
              "\n",
              "  .colab-df-quickchart-complete:disabled,\n",
              "  .colab-df-quickchart-complete:disabled:hover {\n",
              "    background-color: var(--disabled-bg-color);\n",
              "    fill: var(--disabled-fill-color);\n",
              "    box-shadow: none;\n",
              "  }\n",
              "\n",
              "  .colab-df-spinner {\n",
              "    border: 2px solid var(--fill-color);\n",
              "    border-color: transparent;\n",
              "    border-bottom-color: var(--fill-color);\n",
              "    animation:\n",
              "      spin 1s steps(1) infinite;\n",
              "  }\n",
              "\n",
              "  @keyframes spin {\n",
              "    0% {\n",
              "      border-color: transparent;\n",
              "      border-bottom-color: var(--fill-color);\n",
              "      border-left-color: var(--fill-color);\n",
              "    }\n",
              "    20% {\n",
              "      border-color: transparent;\n",
              "      border-left-color: var(--fill-color);\n",
              "      border-top-color: var(--fill-color);\n",
              "    }\n",
              "    30% {\n",
              "      border-color: transparent;\n",
              "      border-left-color: var(--fill-color);\n",
              "      border-top-color: var(--fill-color);\n",
              "      border-right-color: var(--fill-color);\n",
              "    }\n",
              "    40% {\n",
              "      border-color: transparent;\n",
              "      border-right-color: var(--fill-color);\n",
              "      border-top-color: var(--fill-color);\n",
              "    }\n",
              "    60% {\n",
              "      border-color: transparent;\n",
              "      border-right-color: var(--fill-color);\n",
              "    }\n",
              "    80% {\n",
              "      border-color: transparent;\n",
              "      border-right-color: var(--fill-color);\n",
              "      border-bottom-color: var(--fill-color);\n",
              "    }\n",
              "    90% {\n",
              "      border-color: transparent;\n",
              "      border-bottom-color: var(--fill-color);\n",
              "    }\n",
              "  }\n",
              "</style>\n",
              "\n",
              "  <script>\n",
              "    async function quickchart(key) {\n",
              "      const quickchartButtonEl =\n",
              "        document.querySelector('#' + key + ' button');\n",
              "      quickchartButtonEl.disabled = true;  // To prevent multiple clicks.\n",
              "      quickchartButtonEl.classList.add('colab-df-spinner');\n",
              "      try {\n",
              "        const charts = await google.colab.kernel.invokeFunction(\n",
              "            'suggestCharts', [key], {});\n",
              "      } catch (error) {\n",
              "        console.error('Error during call to suggestCharts:', error);\n",
              "      }\n",
              "      quickchartButtonEl.classList.remove('colab-df-spinner');\n",
              "      quickchartButtonEl.classList.add('colab-df-quickchart-complete');\n",
              "    }\n",
              "    (() => {\n",
              "      let quickchartButtonEl =\n",
              "        document.querySelector('#df-737ea125-fbd0-42a8-971e-ffe60a2d7e75 button');\n",
              "      quickchartButtonEl.style.display =\n",
              "        google.colab.kernel.accessAllowed ? 'block' : 'none';\n",
              "    })();\n",
              "  </script>\n",
              "</div>\n",
              "    </div>\n",
              "  </div>\n"
            ],
            "application/vnd.google.colaboratory.intrinsic+json": {
              "type": "dataframe",
              "variable_name": "data",
              "summary": "{\n  \"name\": \"data\",\n  \"rows\": 6516,\n  \"fields\": [\n    {\n      \"column\": \"Date\",\n      \"properties\": {\n        \"dtype\": \"object\",\n        \"num_unique_values\": 6516,\n        \"samples\": [\n          \"2020-12-11\",\n          \"2004-10-25\",\n          \"2001-05-07\"\n        ],\n        \"semantic_type\": \"\",\n        \"description\": \"\"\n      }\n    },\n    {\n      \"column\": \"Close\",\n      \"properties\": {\n        \"dtype\": \"number\",\n        \"std\": 48.06025829174995,\n        \"min\": 0.069792,\n        \"max\": 186.570496,\n        \"num_unique_values\": 5899,\n        \"samples\": [\n          133.220001,\n          1.8475,\n          2.3005\n        ],\n        \"semantic_type\": \"\",\n        \"description\": \"\"\n      }\n    }\n  ]\n}"
            }
          },
          "metadata": {},
          "execution_count": 5
        }
      ]
    },
    {
      "cell_type": "code",
      "source": [
        "device = 'cuda:0' if torch.cuda.is_available() else 'cpu'\n",
        "device"
      ],
      "metadata": {
        "colab": {
          "base_uri": "https://localhost:8080/",
          "height": 35
        },
        "id": "9akB333XcFJ6",
        "outputId": "1b9811a2-7247-4c99-ccba-3606f2a3d3b5"
      },
      "id": "9akB333XcFJ6",
      "execution_count": 6,
      "outputs": [
        {
          "output_type": "execute_result",
          "data": {
            "text/plain": [
              "'cpu'"
            ],
            "application/vnd.google.colaboratory.intrinsic+json": {
              "type": "string"
            }
          },
          "metadata": {},
          "execution_count": 6
        }
      ]
    },
    {
      "cell_type": "code",
      "source": [
        "data['Date'] = pd.to_datetime(data['Date'])\n",
        "\n",
        "plt.plot(data['Date'], data['Close'])"
      ],
      "metadata": {
        "colab": {
          "base_uri": "https://localhost:8080/",
          "height": 552
        },
        "id": "tr2YuqKGcXcJ",
        "outputId": "6624abbb-4ac3-4b06-932f-73c84c199668"
      },
      "id": "tr2YuqKGcXcJ",
      "execution_count": 7,
      "outputs": [
        {
          "output_type": "stream",
          "name": "stderr",
          "text": [
            "<ipython-input-7-27440ea654b2>:1: SettingWithCopyWarning: \n",
            "A value is trying to be set on a copy of a slice from a DataFrame.\n",
            "Try using .loc[row_indexer,col_indexer] = value instead\n",
            "\n",
            "See the caveats in the documentation: https://pandas.pydata.org/pandas-docs/stable/user_guide/indexing.html#returning-a-view-versus-a-copy\n",
            "  data['Date'] = pd.to_datetime(data['Date'])\n"
          ]
        },
        {
          "output_type": "execute_result",
          "data": {
            "text/plain": [
              "[<matplotlib.lines.Line2D at 0x781aa5a538e0>]"
            ]
          },
          "metadata": {},
          "execution_count": 7
        },
        {
          "output_type": "display_data",
          "data": {
            "text/plain": [
              "<Figure size 640x480 with 1 Axes>"
            ],
            "image/png": "[encoded data removed]"
          },
          "metadata": {}
        }
      ]
    },
    {
      "cell_type": "code",
      "source": [
        "from copy import deepcopy as dc\n",
        "\n",
        "def prepare_dataframe_for_lstm(df, n_steps):\n",
        "    df = dc(df)\n",
        "\n",
        "    df.set_index('Date', inplace=True)\n",
        "\n",
        "    for i in range(1, n_steps+1):\n",
        "        df[f'Close(t-{i})'] = df['Close'].shift(i)\n",
        "\n",
        "    df.dropna(inplace=True)\n",
        "\n",
        "    return df\n",
        "\n",
        "lookback = 7\n",
        "shifted_df = prepare_dataframe_for_lstm(data, lookback)\n",
        "shifted_df"
      ],
      "metadata": {
        "colab": {
          "base_uri": "https://localhost:8080/",
          "height": 455
        },
        "id": "Q4ma6QCscwfB",
        "outputId": "3de6129e-6f3a-437c-dd6f-f3ee26feba30"
      },
      "id": "Q4ma6QCscwfB",
      "execution_count": 8,
      "outputs": [
        {
          "output_type": "execute_result",
          "data": {
            "text/plain": [
              "                 Close  Close(t-1)  Close(t-2)  Close(t-3)  Close(t-4)  \\\n",
              "Date                                                                     \n",
              "1997-05-27    0.079167    0.075000    0.069792    0.071354    0.081771   \n",
              "1997-05-28    0.076563    0.079167    0.075000    0.069792    0.071354   \n",
              "1997-05-29    0.075260    0.076563    0.079167    0.075000    0.069792   \n",
              "1997-05-30    0.075000    0.075260    0.076563    0.079167    0.075000   \n",
              "1997-06-02    0.075521    0.075000    0.075260    0.076563    0.079167   \n",
              "...                ...         ...         ...         ...         ...   \n",
              "2023-03-30  102.000000  100.250000   97.239998   98.040001   98.129997   \n",
              "2023-03-31  103.290001  102.000000  100.250000   97.239998   98.040001   \n",
              "2023-04-03  102.410004  103.290001  102.000000  100.250000   97.239998   \n",
              "2023-04-04  103.949997  102.410004  103.290001  102.000000  100.250000   \n",
              "2023-04-05  101.099998  103.949997  102.410004  103.290001  102.000000   \n",
              "\n",
              "            Close(t-5)  Close(t-6)  Close(t-7)  \n",
              "Date                                            \n",
              "1997-05-27    0.085417    0.086458    0.097917  \n",
              "1997-05-28    0.081771    0.085417    0.086458  \n",
              "1997-05-29    0.071354    0.081771    0.085417  \n",
              "1997-05-30    0.069792    0.071354    0.081771  \n",
              "1997-06-02    0.075000    0.069792    0.071354  \n",
              "...                ...         ...         ...  \n",
              "2023-03-30   98.709999   98.699997  100.610001  \n",
              "2023-03-31   98.129997   98.709999   98.699997  \n",
              "2023-04-03   98.040001   98.129997   98.709999  \n",
              "2023-04-04   97.239998   98.040001   98.129997  \n",
              "2023-04-05  100.250000   97.239998   98.040001  \n",
              "\n",
              "[6509 rows x 8 columns]"
            ],
            "text/html": [
              "\n",
              "  <div id=\"df-8da0c8da-d521-484c-915a-9d4d890f5c9a\" class=\"colab-df-container\">\n",
              "    <div>\n",
              "<style scoped>\n",
              "    .dataframe tbody tr th:only-of-type {\n",
              "        vertical-align: middle;\n",
              "    }\n",
              "\n",
              "    .dataframe tbody tr th {\n",
              "        vertical-align: top;\n",
              "    }\n",
              "\n",
              "    .dataframe thead th {\n",
              "        text-align: right;\n",
              "    }\n",
              "</style>\n",
              "<table border=\"1\" class=\"dataframe\">\n",
              "  <thead>\n",
              "    <tr style=\"text-align: right;\">\n",
              "      <th></th>\n",
              "      <th>Close</th>\n",
              "      <th>Close(t-1)</th>\n",
              "      <th>Close(t-2)</th>\n",
              "      <th>Close(t-3)</th>\n",
              "      <th>Close(t-4)</th>\n",
              "      <th>Close(t-5)</th>\n",
              "      <th>Close(t-6)</th>\n",
              "      <th>Close(t-7)</th>\n",
              "    </tr>\n",
              "    <tr>\n",
              "      <th>Date</th>\n",
              "      <th></th>\n",
              "      <th></th>\n",
              "      <th></th>\n",
              "      <th></th>\n",
              "      <th></th>\n",
              "      <th></th>\n",
              "      <th></th>\n",
              "      <th></th>\n",
              "    </tr>\n",
              "  </thead>\n",
              "  <tbody>\n",
              "    <tr>\n",
              "      <th>1997-05-27</th>\n",
              "      <td>0.079167</td>\n",
              "      <td>0.075000</td>\n",
              "      <td>0.069792</td>\n",
              "      <td>0.071354</td>\n",
              "      <td>0.081771</td>\n",
              "      <td>0.085417</td>\n",
              "      <td>0.086458</td>\n",
              "      <td>0.097917</td>\n",
              "    </tr>\n",
              "    <tr>\n",
              "      <th>1997-05-28</th>\n",
              "      <td>0.076563</td>\n",
              "      <td>0.079167</td>\n",
              "      <td>0.075000</td>\n",
              "      <td>0.069792</td>\n",
              "      <td>0.071354</td>\n",
              "      <td>0.081771</td>\n",
              "      <td>0.085417</td>\n",
              "      <td>0.086458</td>\n",
              "    </tr>\n",
              "    <tr>\n",
              "      <th>1997-05-29</th>\n",
              "      <td>0.075260</td>\n",
              "      <td>0.076563</td>\n",
              "      <td>0.079167</td>\n",
              "      <td>0.075000</td>\n",
              "      <td>0.069792</td>\n",
              "      <td>0.071354</td>\n",
              "      <td>0.081771</td>\n",
              "      <td>0.085417</td>\n",
              "    </tr>\n",
              "    <tr>\n",
              "      <th>1997-05-30</th>\n",
              "      <td>0.075000</td>\n",
              "      <td>0.075260</td>\n",
              "      <td>0.076563</td>\n",
              "      <td>0.079167</td>\n",
              "      <td>0.075000</td>\n",
              "      <td>0.069792</td>\n",
              "      <td>0.071354</td>\n",
              "      <td>0.081771</td>\n",
              "    </tr>\n",
              "    <tr>\n",
              "      <th>1997-06-02</th>\n",
              "      <td>0.075521</td>\n",
              "      <td>0.075000</td>\n",
              "      <td>0.075260</td>\n",
              "      <td>0.076563</td>\n",
              "      <td>0.079167</td>\n",
              "      <td>0.075000</td>\n",
              "      <td>0.069792</td>\n",
              "      <td>0.071354</td>\n",
              "    </tr>\n",
              "    <tr>\n",
              "      <th>...</th>\n",
              "      <td>...</td>\n",
              "      <td>...</td>\n",
              "      <td>...</td>\n",
              "      <td>...</td>\n",
              "      <td>...</td>\n",
              "      <td>...</td>\n",
              "      <td>...</td>\n",
              "      <td>...</td>\n",
              "    </tr>\n",
              "    <tr>\n",
              "      <th>2023-03-30</th>\n",
              "      <td>102.000000</td>\n",
              "      <td>100.250000</td>\n",
              "      <td>97.239998</td>\n",
              "      <td>98.040001</td>\n",
              "      <td>98.129997</td>\n",
              "      <td>98.709999</td>\n",
              "      <td>98.699997</td>\n",
              "      <td>100.610001</td>\n",
              "    </tr>\n",
              "    <tr>\n",
              "      <th>2023-03-31</th>\n",
              "      <td>103.290001</td>\n",
              "      <td>102.000000</td>\n",
              "      <td>100.250000</td>\n",
              "      <td>97.239998</td>\n",
              "      <td>98.040001</td>\n",
              "      <td>98.129997</td>\n",
              "      <td>98.709999</td>\n",
              "      <td>98.699997</td>\n",
              "    </tr>\n",
              "    <tr>\n",
              "      <th>2023-04-03</th>\n",
              "      <td>102.410004</td>\n",
              "      <td>103.290001</td>\n",
              "      <td>102.000000</td>\n",
              "      <td>100.250000</td>\n",
              "      <td>97.239998</td>\n",
              "      <td>98.040001</td>\n",
              "      <td>98.129997</td>\n",
              "      <td>98.709999</td>\n",
              "    </tr>\n",
              "    <tr>\n",
              "      <th>2023-04-04</th>\n",
              "      <td>103.949997</td>\n",
              "      <td>102.410004</td>\n",
              "      <td>103.290001</td>\n",
              "      <td>102.000000</td>\n",
              "      <td>100.250000</td>\n",
              "      <td>97.239998</td>\n",
              "      <td>98.040001</td>\n",
              "      <td>98.129997</td>\n",
              "    </tr>\n",
              "    <tr>\n",
              "      <th>2023-04-05</th>\n",
              "      <td>101.099998</td>\n",
              "      <td>103.949997</td>\n",
              "      <td>102.410004</td>\n",
              "      <td>103.290001</td>\n",
              "      <td>102.000000</td>\n",
              "      <td>100.250000</td>\n",
              "      <td>97.239998</td>\n",
              "      <td>98.040001</td>\n",
              "    </tr>\n",
              "  </tbody>\n",
              "</table>\n",
              "<p>6509 rows × 8 columns</p>\n",
              "</div>\n",
              "    <div class=\"colab-df-buttons\">\n",
              "\n",
              "  <div class=\"colab-df-container\">\n",
              "    <button class=\"colab-df-convert\" onclick=\"convertToInteractive('df-8da0c8da-d521-484c-915a-9d4d890f5c9a')\"\n",
              "            title=\"Convert this dataframe to an interactive table.\"\n",
              "            style=\"display:none;\">\n",
              "\n",
              "  <svg xmlns=\"http://www.w3.org/2000/svg\" height=\"24px\" viewBox=\"0 -960 960 960\">\n",
              "    <path d=\"M120-120v-720h720v720H120Zm60-500h600v-160H180v160Zm220 220h160v-160H400v160Zm0 220h160v-160H400v160ZM180-400h160v-160H180v160Zm440 0h160v-160H620v160ZM180-180h160v-160H180v160Zm440 0h160v-160H620v160Z\"/>\n",
              "  </svg>\n",
              "    </button>\n",
              "\n",
              "  <style>\n",
              "    .colab-df-container {\n",
              "      display:flex;\n",
              "      gap: 12px;\n",
              "    }\n",
              "\n",
              "    .colab-df-convert {\n",
              "      background-color: #E8F0FE;\n",
              "      border: none;\n",
              "      border-radius: 50%;\n",
              "      cursor: pointer;\n",
              "      display: none;\n",
              "      fill: #1967D2;\n",
              "      height: 32px;\n",
              "      padding: 0 0 0 0;\n",
              "      width: 32px;\n",
              "    }\n",
              "\n",
              "    .colab-df-convert:hover {\n",
              "      background-color: #E2EBFA;\n",
              "      box-shadow: 0px 1px 2px rgba(60, 64, 67, 0.3), 0px 1px 3px 1px rgba(60, 64, 67, 0.15);\n",
              "      fill: #174EA6;\n",
              "    }\n",
              "\n",
              "    .colab-df-buttons div {\n",
              "      margin-bottom: 4px;\n",
              "    }\n",
              "\n",
              "    [theme=dark] .colab-df-convert {\n",
              "      background-color: #3B4455;\n",
              "      fill: #D2E3FC;\n",
              "    }\n",
              "\n",
              "    [theme=dark] .colab-df-convert:hover {\n",
              "      background-color: #434B5C;\n",
              "      box-shadow: 0px 1px 3px 1px rgba(0, 0, 0, 0.15);\n",
              "      filter: drop-shadow(0px 1px 2px rgba(0, 0, 0, 0.3));\n",
              "      fill: #FFFFFF;\n",
              "    }\n",
              "  </style>\n",
              "\n",
              "    <script>\n",
              "      const buttonEl =\n",
              "        document.querySelector('#df-8da0c8da-d521-484c-915a-9d4d890f5c9a button.colab-df-convert');\n",
              "      buttonEl.style.display =\n",
              "        google.colab.kernel.accessAllowed ? 'block' : 'none';\n",
              "\n",
              "      async function convertToInteractive(key) {\n",
              "        const element = document.querySelector('#df-8da0c8da-d521-484c-915a-9d4d890f5c9a');\n",
              "        const dataTable =\n",
              "          await google.colab.kernel.invokeFunction('convertToInteractive',\n",
              "                                                    [key], {});\n",
              "        if (!dataTable) return;\n",
              "\n",
              "        const docLinkHtml = 'Like what you see? Visit the ' +\n",
              "          '<a target=\"_blank\" href=https://colab.research.google.com/notebooks/data_table.ipynb>data table notebook</a>'\n",
              "          + ' to learn more about interactive tables.';\n",
              "        element.innerHTML = '';\n",
              "        dataTable['output_type'] = 'display_data';\n",
              "        await google.colab.output.renderOutput(dataTable, element);\n",
              "        const docLink = document.createElement('div');\n",
              "        docLink.innerHTML = docLinkHtml;\n",
              "        element.appendChild(docLink);\n",
              "      }\n",
              "    </script>\n",
              "  </div>\n",
              "\n",
              "\n",
              "<div id=\"df-74bd7708-32a1-4832-995a-29bde7503105\">\n",
              "  <button class=\"colab-df-quickchart\" onclick=\"quickchart('df-74bd7708-32a1-4832-995a-29bde7503105')\"\n",
              "            title=\"Suggest charts\"\n",
              "            style=\"display:none;\">\n",
              "\n",
              "<svg xmlns=\"http://www.w3.org/2000/svg\" height=\"24px\"viewBox=\"0 0 24 24\"\n",
              "     width=\"24px\">\n",
              "    <g>\n",
              "        <path d=\"M19 3H5c-1.1 0-2 .9-2 2v14c0 1.1.9 2 2 2h14c1.1 0 2-.9 2-2V5c0-1.1-.9-2-2-2zM9 17H7v-7h2v7zm4 0h-2V7h2v10zm4 0h-2v-4h2v4z\"/>\n",
              "    </g>\n",
              "</svg>\n",
              "  </button>\n",
              "\n",
              "<style>\n",
              "  .colab-df-quickchart {\n",
              "      --bg-color: #E8F0FE;\n",
              "      --fill-color: #1967D2;\n",
              "      --hover-bg-color: #E2EBFA;\n",
              "      --hover-fill-color: #174EA6;\n",
              "      --disabled-fill-color: #AAA;\n",
              "      --disabled-bg-color: #DDD;\n",
              "  }\n",
              "\n",
              "  [theme=dark] .colab-df-quickchart {\n",
              "      --bg-color: #3B4455;\n",
              "      --fill-color: #D2E3FC;\n",
              "      --hover-bg-color: #434B5C;\n",
              "      --hover-fill-color: #FFFFFF;\n",
              "      --disabled-bg-color: #3B4455;\n",
              "      --disabled-fill-color: #666;\n",
              "  }\n",
              "\n",
              "  .colab-df-quickchart {\n",
              "    background-color: var(--bg-color);\n",
              "    border: none;\n",
              "    border-radius: 50%;\n",
              "    cursor: pointer;\n",
              "    display: none;\n",
              "    fill: var(--fill-color);\n",
              "    height: 32px;\n",
              "    padding: 0;\n",
              "    width: 32px;\n",
              "  }\n",
              "\n",
              "  .colab-df-quickchart:hover {\n",
              "    background-color: var(--hover-bg-color);\n",
              "    box-shadow: 0 1px 2px rgba(60, 64, 67, 0.3), 0 1px 3px 1px rgba(60, 64, 67, 0.15);\n",
              "    fill: var(--button-hover-fill-color);\n",
              "  }\n",
              "\n",
              "  .colab-df-quickchart-complete:disabled,\n",
              "  .colab-df-quickchart-complete:disabled:hover {\n",
              "    background-color: var(--disabled-bg-color);\n",
              "    fill: var(--disabled-fill-color);\n",
              "    box-shadow: none;\n",
              "  }\n",
              "\n",
              "  .colab-df-spinner {\n",
              "    border: 2px solid var(--fill-color);\n",
              "    border-color: transparent;\n",
              "    border-bottom-color: var(--fill-color);\n",
              "    animation:\n",
              "      spin 1s steps(1) infinite;\n",
              "  }\n",
              "\n",
              "  @keyframes spin {\n",
              "    0% {\n",
              "      border-color: transparent;\n",
              "      border-bottom-color: var(--fill-color);\n",
              "      border-left-color: var(--fill-color);\n",
              "    }\n",
              "    20% {\n",
              "      border-color: transparent;\n",
              "      border-left-color: var(--fill-color);\n",
              "      border-top-color: var(--fill-color);\n",
              "    }\n",
              "    30% {\n",
              "      border-color: transparent;\n",
              "      border-left-color: var(--fill-color);\n",
              "      border-top-color: var(--fill-color);\n",
              "      border-right-color: var(--fill-color);\n",
              "    }\n",
              "    40% {\n",
              "      border-color: transparent;\n",
              "      border-right-color: var(--fill-color);\n",
              "      border-top-color: var(--fill-color);\n",
              "    }\n",
              "    60% {\n",
              "      border-color: transparent;\n",
              "      border-right-color: var(--fill-color);\n",
              "    }\n",
              "    80% {\n",
              "      border-color: transparent;\n",
              "      border-right-color: var(--fill-color);\n",
              "      border-bottom-color: var(--fill-color);\n",
              "    }\n",
              "    90% {\n",
              "      border-color: transparent;\n",
              "      border-bottom-color: var(--fill-color);\n",
              "    }\n",
              "  }\n",
              "</style>\n",
              "\n",
              "  <script>\n",
              "    async function quickchart(key) {\n",
              "      const quickchartButtonEl =\n",
              "        document.querySelector('#' + key + ' button');\n",
              "      quickchartButtonEl.disabled = true;  // To prevent multiple clicks.\n",
              "      quickchartButtonEl.classList.add('colab-df-spinner');\n",
              "      try {\n",
              "        const charts = await google.colab.kernel.invokeFunction(\n",
              "            'suggestCharts', [key], {});\n",
              "      } catch (error) {\n",
              "        console.error('Error during call to suggestCharts:', error);\n",
              "      }\n",
              "      quickchartButtonEl.classList.remove('colab-df-spinner');\n",
              "      quickchartButtonEl.classList.add('colab-df-quickchart-complete');\n",
              "    }\n",
              "    (() => {\n",
              "      let quickchartButtonEl =\n",
              "        document.querySelector('#df-74bd7708-32a1-4832-995a-29bde7503105 button');\n",
              "      quickchartButtonEl.style.display =\n",
              "        google.colab.kernel.accessAllowed ? 'block' : 'none';\n",
              "    })();\n",
              "  </script>\n",
              "</div>\n",
              "    </div>\n",
              "  </div>\n"
            ],
            "application/vnd.google.colaboratory.intrinsic+json": {
              "type": "dataframe",
              "variable_name": "shifted_df",
              "summary": "{\n  \"name\": \"shifted_df\",\n  \"rows\": 6509,\n  \"fields\": [\n    {\n      \"column\": \"Date\",\n      \"properties\": {\n        \"dtype\": \"date\",\n        \"min\": \"1997-05-27 00:00:00\",\n        \"max\": \"2023-04-05 00:00:00\",\n        \"num_unique_values\": 6509,\n        \"samples\": [\n          \"2002-06-05 00:00:00\",\n          \"2013-02-07 00:00:00\",\n          \"2014-01-31 00:00:00\"\n        ],\n        \"semantic_type\": \"\",\n        \"description\": \"\"\n      }\n    },\n    {\n      \"column\": \"Close\",\n      \"properties\": {\n        \"dtype\": \"number\",\n        \"std\": 48.07497434062557,\n        \"min\": 0.070833,\n        \"max\": 186.570496,\n        \"num_unique_values\": 5893,\n        \"samples\": [\n          11.3005,\n          88.416496,\n          12.6685\n        ],\n        \"semantic_type\": \"\",\n        \"description\": \"\"\n      }\n    },\n    {\n      \"column\": \"Close(t-1)\",\n      \"properties\": {\n        \"dtype\": \"number\",\n        \"std\": 48.06885132421027,\n        \"min\": 0.070833,\n        \"max\": 186.570496,\n        \"num_unique_values\": 5892,\n        \"samples\": [\n          154.726501,\n          90.943001,\n          3.1215\n        ],\n        \"semantic_type\": \"\",\n        \"description\": \"\"\n      }\n    },\n    {\n      \"column\": \"Close(t-2)\",\n      \"properties\": {\n        \"dtype\": \"number\",\n        \"std\": 48.062076825637476,\n        \"min\": 0.069792,\n        \"max\": 186.570496,\n        \"num_unique_values\": 5892,\n        \"samples\": [\n          157.307007,\n          91.035004,\n          3.2235\n        ],\n        \"semantic_type\": \"\",\n        \"description\": \"\"\n      }\n    },\n    {\n      \"column\": \"Close(t-3)\",\n      \"properties\": {\n        \"dtype\": \"number\",\n        \"std\": 48.05564844925918,\n        \"min\": 0.069792,\n        \"max\": 186.570496,\n        \"num_unique_values\": 5892,\n        \"samples\": [\n          154.6465,\n          90.698997,\n          3.3925\n        ],\n        \"semantic_type\": \"\",\n        \"description\": \"\"\n      }\n    },\n    {\n      \"column\": \"Close(t-4)\",\n      \"properties\": {\n        \"dtype\": \"number\",\n        \"std\": 48.049012426866724,\n        \"min\": 0.069792,\n        \"max\": 186.570496,\n        \"num_unique_values\": 5892,\n        \"samples\": [\n          152.858002,\n          90.709503,\n          3.5435\n        ],\n        \"semantic_type\": \"\",\n        \"description\": \"\"\n      }\n    },\n    {\n      \"column\": \"Close(t-5)\",\n      \"properties\": {\n        \"dtype\": \"number\",\n        \"std\": 48.04266319641631,\n        \"min\": 0.069792,\n        \"max\": 186.570496,\n        \"num_unique_values\": 5892,\n        \"samples\": [\n          157.976501,\n          89.037498,\n          3.5845\n        ],\n        \"semantic_type\": \"\",\n        \"description\": \"\"\n      }\n    },\n    {\n      \"column\": \"Close(t-6)\",\n      \"properties\": {\n        \"dtype\": \"number\",\n        \"std\": 48.03669744551472,\n        \"min\": 0.069792,\n        \"max\": 186.570496,\n        \"num_unique_values\": 5892,\n        \"samples\": [\n          159.725006,\n          88.670998,\n          3.6635\n        ],\n        \"semantic_type\": \"\",\n        \"description\": \"\"\n      }\n    },\n    {\n      \"column\": \"Close(t-7)\",\n      \"properties\": {\n        \"dtype\": \"number\",\n        \"std\": 48.031372161536694,\n        \"min\": 0.069792,\n        \"max\": 186.570496,\n        \"num_unique_values\": 5892,\n        \"samples\": [\n          159.037003,\n          88.285004,\n          3.495\n        ],\n        \"semantic_type\": \"\",\n        \"description\": \"\"\n      }\n    }\n  ]\n}"
            }
          },
          "metadata": {},
          "execution_count": 8
        }
      ]
    },
    {
      "cell_type": "code",
      "source": [
        "shifted_df_as_np = shifted_df.to_numpy()\n",
        "\n",
        "shifted_df_as_np"
      ],
      "metadata": {
        "colab": {
          "base_uri": "https://localhost:8080/"
        },
        "id": "yWcD1tHjfAU-",
        "outputId": "311900c4-98b8-4d6d-ccd1-dae8f9892ced"
      },
      "id": "yWcD1tHjfAU-",
      "execution_count": 9,
      "outputs": [
        {
          "output_type": "execute_result",
          "data": {
            "text/plain": [
              "array([[7.91670000e-02, 7.50000000e-02, 6.97920000e-02, ...,\n",
              "        8.54170000e-02, 8.64580000e-02, 9.79170000e-02],\n",
              "       [7.65630000e-02, 7.91670000e-02, 7.50000000e-02, ...,\n",
              "        8.17710000e-02, 8.54170000e-02, 8.64580000e-02],\n",
              "       [7.52600000e-02, 7.65630000e-02, 7.91670000e-02, ...,\n",
              "        7.13540000e-02, 8.17710000e-02, 8.54170000e-02],\n",
              "       ...,\n",
              "       [1.02410004e+02, 1.03290001e+02, 1.02000000e+02, ...,\n",
              "        9.80400010e+01, 9.81299970e+01, 9.87099990e+01],\n",
              "       [1.03949997e+02, 1.02410004e+02, 1.03290001e+02, ...,\n",
              "        9.72399980e+01, 9.80400010e+01, 9.81299970e+01],\n",
              "       [1.01099998e+02, 1.03949997e+02, 1.02410004e+02, ...,\n",
              "        1.00250000e+02, 9.72399980e+01, 9.80400010e+01]])"
            ]
          },
          "metadata": {},
          "execution_count": 9
        }
      ]
    },
    {
      "cell_type": "code",
      "source": [
        "shifted_df_as_np.shape"
      ],
      "metadata": {
        "colab": {
          "base_uri": "https://localhost:8080/"
        },
        "id": "Pq2p3opGELA_",
        "outputId": "f2e8ff26-b5c8-4926-fd2e-74f3b89be124"
      },
      "id": "Pq2p3opGELA_",
      "execution_count": 10,
      "outputs": [
        {
          "output_type": "execute_result",
          "data": {
            "text/plain": [
              "(6509, 8)"
            ]
          },
          "metadata": {},
          "execution_count": 10
        }
      ]
    },
    {
      "cell_type": "code",
      "source": [
        "from sklearn.preprocessing import MinMaxScaler\n",
        "\n",
        "scaler = MinMaxScaler(feature_range=(-1, 1))\n",
        "shifted_df_as_np = scaler.fit_transform(shifted_df_as_np)\n",
        "\n",
        "shifted_df_as_np"
      ],
      "metadata": {
        "colab": {
          "base_uri": "https://localhost:8080/"
        },
        "id": "pXHkuFeafNUU",
        "outputId": "fc6822a3-7a40-43f7-f92f-acd2ca4eec8e"
      },
      "id": "pXHkuFeafNUU",
      "execution_count": 11,
      "outputs": [
        {
          "output_type": "execute_result",
          "data": {
            "text/plain": [
              "array([[-0.99991063, -0.99995531, -1.        , ..., -0.99983244,\n",
              "        -0.99982128, -0.99969839],\n",
              "       [-0.99993855, -0.99991063, -0.99994415, ..., -0.99987154,\n",
              "        -0.99983244, -0.99982128],\n",
              "       [-0.99995253, -0.99993855, -0.99989946, ..., -0.99998325,\n",
              "        -0.99987154, -0.99983244],\n",
              "       ...,\n",
              "       [ 0.09747299,  0.10690997,  0.09308121, ...,  0.0506149 ,\n",
              "         0.05158   ,  0.05779984],\n",
              "       [ 0.11398769,  0.09747299,  0.10691495, ...,  0.04203581,\n",
              "         0.0506149 ,  0.05158   ],\n",
              "       [ 0.08342464,  0.11398769,  0.09747802, ...,  0.07431453,\n",
              "         0.04203581,  0.0506149 ]])"
            ]
          },
          "metadata": {},
          "execution_count": 11
        }
      ]
    },
    {
      "cell_type": "code",
      "source": [
        "'''\n",
        "Basic steps and needs of using pytorch for TimeSeries\n",
        "\n",
        "1. Scale the data\n",
        "2. Format data in form that will give LSTM t-7 first and then t-1 so that we don't give past information first and and future at the last\n",
        "3. Split train and test\n",
        "4. Pytorch LSTM needs an extra dimension at the end so reshape the data for LSTM(specifically)\n",
        "5. Wrap the numpy vectors in tensors and make the values as float.\n",
        "6. For training models in pytorch we need datasets and not tensors so make the tensors to datasets\n",
        "    6.1. Creat custom TimeSeriesDataSet Class\n",
        "    6.2. Convert tensors to TimeSeriesDataset\n",
        "7. Further load datasets in the dataLoaders to get batch data\n",
        "8. Create LSTM with hidden_size and input_size\n",
        "9. Initialize LSTM with h0 and c0\n",
        "10.Create train_one_epoch and validate_one_epoch\n",
        "11.Run model with no of epochs and collect the error\n",
        "12.Play around with the batch size, learning rate, model etc.\n",
        "\n",
        "'''"
      ],
      "metadata": {
        "colab": {
          "base_uri": "https://localhost:8080/",
          "height": 122
        },
        "id": "Qz46mYTLRmau",
        "outputId": "8404aa61-28e4-4fb8-b67d-3461ba1b7c08"
      },
      "id": "Qz46mYTLRmau",
      "execution_count": 30,
      "outputs": [
        {
          "output_type": "execute_result",
          "data": {
            "text/plain": [
              "\"\\nBasic steps and needs of using pytorch for TimeSeries\\n\\n1. Scale the data\\n2. Format data in form that will give LSTM t-7 first and then t-1 so that we don't give past information first and and future at the last\\n3. Split train and test\\n4. Pytorch LSTM needs an extra dimension at the end so reshape the data for LSTM(specifically) \\n5. Wrap the numpy vectors in tensors and make the values as float.\\n6. For training models in pytorch we need datasets and not tensors so make the tensors to datasets\\n    6.1. Creat custom TimeSeriesDataSet Class\\n    6.2. Convert tensors to TimeSeriesDataset\\n7. Further load datasets in the dataLoaders to get batch data\\n8. Create LSTM with hidden_size and input_size\\n9. Initialize LSTM with h0 and c0\\n10.Create train_one_epoch and validate_one_epoch\\n11.Run model with no of epochs and collect the error\\n12.Play around with the batch size, learning rate, model etc.\\n\\n\""
            ],
            "application/vnd.google.colaboratory.intrinsic+json": {
              "type": "string"
            }
          },
          "metadata": {},
          "execution_count": 30
        }
      ]
    },
    {
      "cell_type": "code",
      "source": [
        "X = shifted_df_as_np[:, 1:]\n",
        "y = shifted_df_as_np[:, 0]\n",
        "\n",
        "X.shape, y.shape"
      ],
      "metadata": {
        "colab": {
          "base_uri": "https://localhost:8080/"
        },
        "id": "Iui9unuTfxOe",
        "outputId": "3fb87f22-a82a-435a-e54e-b2e4f93f5d04"
      },
      "id": "Iui9unuTfxOe",
      "execution_count": 31,
      "outputs": [
        {
          "output_type": "execute_result",
          "data": {
            "text/plain": [
              "((6509, 7), (6509,))"
            ]
          },
          "metadata": {},
          "execution_count": 31
        }
      ]
    },
    {
      "cell_type": "code",
      "source": [
        "X = dc(np.flip(X, axis=1))\n",
        "X"
      ],
      "metadata": {
        "colab": {
          "base_uri": "https://localhost:8080/"
        },
        "id": "XmbIqwj-E0cv",
        "outputId": "4eb38c49-b79a-4e1b-e0cf-5a586626cefb"
      },
      "id": "XmbIqwj-E0cv",
      "execution_count": 32,
      "outputs": [
        {
          "output_type": "execute_result",
          "data": {
            "text/plain": [
              "array([[-0.99969839, -0.99982128, -0.99983244, ..., -0.99998325,\n",
              "        -1.        , -0.99995531],\n",
              "       [-0.99982128, -0.99983244, -0.99987154, ..., -1.        ,\n",
              "        -0.99994415, -0.99991063],\n",
              "       [-0.99983244, -0.99987154, -0.99998325, ..., -0.99994415,\n",
              "        -0.99989946, -0.99993855],\n",
              "       ...,\n",
              "       [ 0.05779984,  0.05158   ,  0.0506149 , ...,  0.07431453,\n",
              "         0.09308121,  0.10690997],\n",
              "       [ 0.05158   ,  0.0506149 ,  0.04203581, ...,  0.09308121,\n",
              "         0.10691495,  0.09747299],\n",
              "       [ 0.0506149 ,  0.04203581,  0.07431453, ...,  0.10691495,\n",
              "         0.09747802,  0.11398769]])"
            ]
          },
          "metadata": {},
          "execution_count": 32
        }
      ]
    },
    {
      "cell_type": "code",
      "source": [
        "split_index = int(len(X) * 0.95)\n",
        "\n",
        "split_index"
      ],
      "metadata": {
        "colab": {
          "base_uri": "https://localhost:8080/"
        },
        "id": "GCHslawXgE21",
        "outputId": "a4531003-5c79-4656-8a9d-b583c136ed1a"
      },
      "id": "GCHslawXgE21",
      "execution_count": 33,
      "outputs": [
        {
          "output_type": "execute_result",
          "data": {
            "text/plain": [
              "6183"
            ]
          },
          "metadata": {},
          "execution_count": 33
        }
      ]
    },
    {
      "cell_type": "code",
      "source": [
        "X_train = X[:split_index]\n",
        "X_test = X[split_index:]\n",
        "\n",
        "y_train = y[:split_index]\n",
        "y_test = y[split_index:]\n",
        "\n",
        "X_train.shape, X_test.shape, y_train.shape, y_test.shape"
      ],
      "metadata": {
        "colab": {
          "base_uri": "https://localhost:8080/"
        },
        "id": "hhGMh_nAgiST",
        "outputId": "50a6ccce-ccaf-42c6-9654-409321e7abb4"
      },
      "id": "hhGMh_nAgiST",
      "execution_count": 34,
      "outputs": [
        {
          "output_type": "execute_result",
          "data": {
            "text/plain": [
              "((6183, 7), (326, 7), (6183,), (326,))"
            ]
          },
          "metadata": {},
          "execution_count": 34
        }
      ]
    },
    {
      "cell_type": "code",
      "source": [
        "X_train = X_train.reshape((-1, lookback, 1))\n",
        "X_test = X_test.reshape((-1, lookback, 1))\n",
        "\n",
        "y_train = y_train.reshape((-1, 1))\n",
        "y_test = y_test.reshape((-1, 1))\n",
        "\n",
        "X_train.shape, X_test.shape, y_train.shape, y_test.shape"
      ],
      "metadata": {
        "colab": {
          "base_uri": "https://localhost:8080/"
        },
        "id": "Muqs9hKYhMUS",
        "outputId": "61c86d3f-4287-48a6-bdb3-b700120312d2"
      },
      "id": "Muqs9hKYhMUS",
      "execution_count": 35,
      "outputs": [
        {
          "output_type": "execute_result",
          "data": {
            "text/plain": [
              "((6183, 7, 1), (326, 7, 1), (6183, 1), (326, 1))"
            ]
          },
          "metadata": {},
          "execution_count": 35
        }
      ]
    },
    {
      "cell_type": "code",
      "source": [
        "X_train = torch.tensor(X_train).float()\n",
        "y_train = torch.tensor(y_train).float()\n",
        "X_test = torch.tensor(X_test).float()\n",
        "y_test = torch.tensor(y_test).float()\n",
        "\n",
        "X_train.shape, X_test.shape, y_train.shape, y_test.shape"
      ],
      "metadata": {
        "colab": {
          "base_uri": "https://localhost:8080/"
        },
        "id": "i7-PBcrMhR7z",
        "outputId": "10e95ef1-3d3e-479e-e8ab-a0c1ac5ef409"
      },
      "id": "i7-PBcrMhR7z",
      "execution_count": 36,
      "outputs": [
        {
          "output_type": "execute_result",
          "data": {
            "text/plain": [
              "(torch.Size([6183, 7, 1]),\n",
              " torch.Size([326, 7, 1]),\n",
              " torch.Size([6183, 1]),\n",
              " torch.Size([326, 1]))"
            ]
          },
          "metadata": {},
          "execution_count": 36
        }
      ]
    },
    {
      "cell_type": "code",
      "source": [
        "from torch.utils.data import Dataset\n",
        "\n",
        "class TimeSeriesDataset(Dataset):\n",
        "    def __init__(self, X, y):\n",
        "        self.X = X\n",
        "        self.y = y\n",
        "\n",
        "    def __len__(self):\n",
        "        return len(self.X)\n",
        "\n",
        "    def __getitem__(self, i):\n",
        "        return self.X[i], self.y[i]\n",
        "\n",
        "train_dataset = TimeSeriesDataset(X_train, y_train)\n",
        "test_dataset = TimeSeriesDataset(X_test, y_test)"
      ],
      "metadata": {
        "id": "DWutCAGKhdqU"
      },
      "id": "DWutCAGKhdqU",
      "execution_count": 37,
      "outputs": []
    },
    {
      "cell_type": "code",
      "source": [
        "train_dataset"
      ],
      "metadata": {
        "colab": {
          "base_uri": "https://localhost:8080/"
        },
        "id": "12OWUTa5ijoq",
        "outputId": "e1713a0d-2625-4679-fe7e-ef006a4bbcc3"
      },
      "id": "12OWUTa5ijoq",
      "execution_count": 38,
      "outputs": [
        {
          "output_type": "execute_result",
          "data": {
            "text/plain": [
              "<__main__.TimeSeriesDataset at 0x781a84f1b8e0>"
            ]
          },
          "metadata": {},
          "execution_count": 38
        }
      ]
    },
    {
      "cell_type": "code",
      "source": [
        "\n",
        "from torch.utils.data import DataLoader\n",
        "\n",
        "batch_size = 16\n",
        "\n",
        "train_loader = DataLoader(train_dataset, batch_size=batch_size, shuffle=True)\n",
        "test_loader = DataLoader(test_dataset, batch_size=batch_size, shuffle=False)"
      ],
      "metadata": {
        "id": "XYsUmPl3ik46"
      },
      "id": "XYsUmPl3ik46",
      "execution_count": 39,
      "outputs": []
    },
    {
      "cell_type": "code",
      "source": [
        "for _, batch in enumerate(train_loader):\n",
        "    x_batch, y_batch = batch[0].to(device), batch[1].to(device)\n",
        "    print(x_batch.shape, y_batch.shape)\n",
        "    break"
      ],
      "metadata": {
        "colab": {
          "base_uri": "https://localhost:8080/"
        },
        "id": "TJTnbgBDjOSK",
        "outputId": "abebeb8e-498a-4409-f8c4-59ee73094675"
      },
      "id": "TJTnbgBDjOSK",
      "execution_count": 40,
      "outputs": [
        {
          "output_type": "stream",
          "name": "stdout",
          "text": [
            "torch.Size([16, 7, 1]) torch.Size([16, 1])\n"
          ]
        }
      ]
    },
    {
      "cell_type": "code",
      "source": [
        "class LSTM(nn.Module):\n",
        "    def __init__(self, input_size, hidden_size, num_stacked_layers):\n",
        "        super().__init__()\n",
        "        self.hidden_size = hidden_size\n",
        "        self.num_stacked_layers = num_stacked_layers\n",
        "\n",
        "        self.lstm = nn.LSTM(input_size, hidden_size, num_stacked_layers,\n",
        "                            batch_first=True)\n",
        "\n",
        "        self.fc = nn.Linear(hidden_size, 1)\n",
        "\n",
        "    def forward(self, x):\n",
        "        batch_size = x.size(0)\n",
        "        h0 = torch.zeros(self.num_stacked_layers, batch_size, self.hidden_size).to(device)\n",
        "        c0 = torch.zeros(self.num_stacked_layers, batch_size, self.hidden_size).to(device)\n",
        "\n",
        "        out, _ = self.lstm(x, (h0, c0))\n",
        "        out = self.fc(out[:, -1, :])\n",
        "        return out\n",
        "\n",
        "model = LSTM(1, 4, 1)\n",
        "model.to(device)\n",
        "model"
      ],
      "metadata": {
        "colab": {
          "base_uri": "https://localhost:8080/"
        },
        "id": "njdkq_kmjib5",
        "outputId": "b6283e4c-d0ec-428d-9446-23e69f3f5045"
      },
      "id": "njdkq_kmjib5",
      "execution_count": 41,
      "outputs": [
        {
          "output_type": "execute_result",
          "data": {
            "text/plain": [
              "LSTM(\n",
              "  (lstm): LSTM(1, 4, batch_first=True)\n",
              "  (fc): Linear(in_features=4, out_features=1, bias=True)\n",
              ")"
            ]
          },
          "metadata": {},
          "execution_count": 41
        }
      ]
    },
    {
      "cell_type": "code",
      "source": [
        "def train_one_epoch():\n",
        "    model.train(True)\n",
        "    print(f'Epoch: {epoch + 1}')\n",
        "    running_loss = 0.0\n",
        "\n",
        "    for batch_index, batch in enumerate(train_loader):\n",
        "        x_batch, y_batch = batch[0].to(device), batch[1].to(device)\n",
        "\n",
        "        output = model(x_batch)\n",
        "        loss = loss_function(output, y_batch)\n",
        "        running_loss += loss.item()\n",
        "\n",
        "        optimizer.zero_grad()\n",
        "        loss.backward()\n",
        "        optimizer.step()\n",
        "\n",
        "        if batch_index % 100 == 99:  # print every 100 batches\n",
        "            avg_loss_across_batches = running_loss / 100\n",
        "            print('Batch {0}, Loss: {1:.3f}'.format(batch_index+1,\n",
        "                                                    avg_loss_across_batches))\n",
        "            running_loss = 0.0\n",
        "    print()"
      ],
      "metadata": {
        "id": "iue5WvTxmVKB"
      },
      "id": "iue5WvTxmVKB",
      "execution_count": 42,
      "outputs": []
    },
    {
      "cell_type": "code",
      "source": [
        "def validate_one_epoch():\n",
        "    model.train(False)\n",
        "    running_loss = 0.0\n",
        "\n",
        "    for batch_index, batch in enumerate(test_loader):\n",
        "        x_batch, y_batch = batch[0].to(device), batch[1].to(device)\n",
        "\n",
        "        with torch.no_grad():\n",
        "            output = model(x_batch)\n",
        "            loss = loss_function(output, y_batch)\n",
        "            running_loss += loss.item()\n",
        "\n",
        "    avg_loss_across_batches = running_loss / len(test_loader)\n",
        "\n",
        "    print('Val Loss: {0:.3f}'.format(avg_loss_across_batches))\n",
        "    print('***************************************************')\n",
        "    print()"
      ],
      "metadata": {
        "id": "gRmNuV3cmy-t"
      },
      "id": "gRmNuV3cmy-t",
      "execution_count": 43,
      "outputs": []
    },
    {
      "cell_type": "code",
      "source": [
        "learning_rate = 0.001\n",
        "num_epochs = 10\n",
        "loss_function = nn.MSELoss()\n",
        "optimizer = torch.optim.Adam(model.parameters(), lr=learning_rate)\n",
        "\n",
        "for epoch in range(num_epochs):\n",
        "    train_one_epoch()\n",
        "    validate_one_epoch()"
      ],
      "metadata": {
        "colab": {
          "base_uri": "https://localhost:8080/"
        },
        "id": "1jgb1aJ3lxlQ",
        "outputId": "53f88a51-c30b-4541-f6a3-0b628756bea6"
      },
      "id": "1jgb1aJ3lxlQ",
      "execution_count": 44,
      "outputs": [
        {
          "output_type": "stream",
          "name": "stdout",
          "text": [
            "Epoch: 1\n",
            "Batch 100, Loss: 0.287\n",
            "Batch 200, Loss: 0.182\n",
            "Batch 300, Loss: 0.100\n",
            "\n",
            "Val Loss: 0.168\n",
            "***************************************************\n",
            "\n",
            "Epoch: 2\n",
            "Batch 100, Loss: 0.028\n",
            "Batch 200, Loss: 0.017\n",
            "Batch 300, Loss: 0.011\n",
            "\n",
            "Val Loss: 0.019\n",
            "***************************************************\n",
            "\n",
            "Epoch: 3\n",
            "Batch 100, Loss: 0.005\n",
            "Batch 200, Loss: 0.004\n",
            "Batch 300, Loss: 0.003\n",
            "\n",
            "Val Loss: 0.011\n",
            "***************************************************\n",
            "\n",
            "Epoch: 4\n",
            "Batch 100, Loss: 0.002\n",
            "Batch 200, Loss: 0.002\n",
            "Batch 300, Loss: 0.001\n",
            "\n",
            "Val Loss: 0.010\n",
            "***************************************************\n",
            "\n",
            "Epoch: 5\n",
            "Batch 100, Loss: 0.001\n",
            "Batch 200, Loss: 0.001\n",
            "Batch 300, Loss: 0.001\n",
            "\n",
            "Val Loss: 0.010\n",
            "***************************************************\n",
            "\n",
            "Epoch: 6\n",
            "Batch 100, Loss: 0.001\n",
            "Batch 200, Loss: 0.001\n",
            "Batch 300, Loss: 0.001\n",
            "\n",
            "Val Loss: 0.005\n",
            "***************************************************\n",
            "\n",
            "Epoch: 7\n",
            "Batch 100, Loss: 0.001\n",
            "Batch 200, Loss: 0.000\n",
            "Batch 300, Loss: 0.000\n",
            "\n",
            "Val Loss: 0.004\n",
            "***************************************************\n",
            "\n",
            "Epoch: 8\n",
            "Batch 100, Loss: 0.000\n",
            "Batch 200, Loss: 0.000\n",
            "Batch 300, Loss: 0.000\n",
            "\n",
            "Val Loss: 0.004\n",
            "***************************************************\n",
            "\n",
            "Epoch: 9\n",
            "Batch 100, Loss: 0.000\n",
            "Batch 200, Loss: 0.000\n",
            "Batch 300, Loss: 0.000\n",
            "\n",
            "Val Loss: 0.003\n",
            "***************************************************\n",
            "\n",
            "Epoch: 10\n",
            "Batch 100, Loss: 0.000\n",
            "Batch 200, Loss: 0.000\n",
            "Batch 300, Loss: 0.000\n",
            "\n",
            "Val Loss: 0.003\n",
            "***************************************************\n",
            "\n"
          ]
        }
      ]
    },
    {
      "cell_type": "code",
      "source": [
        " #Model takes the training data in and predicts the learned results.\n",
        " # Put in the CPU because np doesn't use GPU\n",
        " with torch.no_grad():\n",
        "    predicted = model(X_train.to(device)).to('cpu').numpy()\n",
        "\n",
        "plt.plot(y_train, label='Actual Close')\n",
        "plt.plot(predicted, label='Predicted Close')\n",
        "plt.xlabel('Day')\n",
        "plt.ylabel('Close')\n",
        "plt.legend()\n",
        "plt.show()\n"
      ],
      "metadata": {
        "colab": {
          "base_uri": "https://localhost:8080/",
          "height": 449
        },
        "id": "-Xon2PHWno7t",
        "outputId": "9fbe0f43-f545-4cba-8f5d-ef73f5e8bf4b"
      },
      "id": "-Xon2PHWno7t",
      "execution_count": 45,
      "outputs": [
        {
          "output_type": "display_data",
          "data": {
            "text/plain": [
              "<Figure size 640x480 with 1 Axes>"
            ],
            "image/png": "[encoded data removed]"
          },
          "metadata": {}
        }
      ]
    },
    {
      "cell_type": "code",
      "source": [
        "train_predictions = predicted.flatten()\n",
        "\n",
        "dummies = np.zeros((X_train.shape[0], lookback+1))\n",
        "dummies[:, 0] = train_predictions\n",
        "dummies = scaler.inverse_transform(dummies)\n",
        "\n",
        "train_predictions = dc(dummies[:, 0])\n",
        "train_predictions"
      ],
      "metadata": {
        "colab": {
          "base_uri": "https://localhost:8080/"
        },
        "id": "d3SDgEvPpOcD",
        "outputId": "15ed8262-900e-43a0-9cdb-c43c77e54144"
      },
      "id": "d3SDgEvPpOcD",
      "execution_count": 52,
      "outputs": [
        {
          "output_type": "execute_result",
          "data": {
            "text/plain": [
              "array([  0.61944198,   0.62020344,   0.61999223, ..., 171.12361045,\n",
              "       170.48711642, 170.73991098])"
            ]
          },
          "metadata": {},
          "execution_count": 52
        }
      ]
    },
    {
      "cell_type": "code",
      "source": [
        "dummies = np.zeros((X_train.shape[0], lookback+1))\n",
        "dummies[:, 0] = y_train.flatten()\n",
        "dummies = scaler.inverse_transform(dummies)\n",
        "\n",
        "new_y_train = dc(dummies[:, 0])\n",
        "new_y_train"
      ],
      "metadata": {
        "colab": {
          "base_uri": "https://localhost:8080/"
        },
        "id": "PHnvejOdrL7Q",
        "outputId": "3b3eec62-c32a-49dc-e54b-a05d21044627"
      },
      "id": "PHnvejOdrL7Q",
      "execution_count": 53,
      "outputs": [
        {
          "output_type": "execute_result",
          "data": {
            "text/plain": [
              "array([7.91646265e-02, 7.65634249e-02, 7.52572660e-02, ...,\n",
              "       1.69091505e+02, 1.73315001e+02, 1.68871003e+02])"
            ]
          },
          "metadata": {},
          "execution_count": 53
        }
      ]
    },
    {
      "cell_type": "code",
      "source": [
        "plt.plot(new_y_train, label='Actual Close')\n",
        "plt.plot(train_predictions, label='Predicted Close')\n",
        "plt.xlabel('Day')\n",
        "plt.ylabel('Close')\n",
        "plt.legend()\n",
        "plt.show()\n"
      ],
      "metadata": {
        "colab": {
          "base_uri": "https://localhost:8080/",
          "height": 449
        },
        "id": "2LlDAUtyrcrN",
        "outputId": "13670836-edda-4c7d-8cc4-021189dda961"
      },
      "id": "2LlDAUtyrcrN",
      "execution_count": 54,
      "outputs": [
        {
          "output_type": "display_data",
          "data": {
            "text/plain": [
              "<Figure size 640x480 with 1 Axes>"
            ],
            "image/png": "[encoded data removed]"
          },
          "metadata": {}
        }
      ]
    },
    {
      "cell_type": "code",
      "source": [
        "test_predictions = model(X_test.to(device)).detach().cpu().numpy().flatten()\n",
        "\n",
        "dummies = np.zeros((X_test.shape[0], lookback+1))\n",
        "dummies[:, 0] = test_predictions\n",
        "dummies = scaler.inverse_transform(dummies)\n",
        "\n",
        "test_predictions = dc(dummies[:, 0])\n",
        "test_predictions"
      ],
      "metadata": {
        "id": "yYeC2JMorftR",
        "colab": {
          "base_uri": "https://localhost:8080/"
        },
        "outputId": "2996b8d8-b836-4f9e-8f42-498dc90357fa"
      },
      "id": "yYeC2JMorftR",
      "execution_count": 55,
      "outputs": [
        {
          "output_type": "execute_result",
          "data": {
            "text/plain": [
              "array([169.97434622, 169.54786032, 168.72363513, 168.80903014,\n",
              "       169.12807752, 169.36274147, 169.17707793, 169.33909722,\n",
              "       169.17290934, 168.9519406 , 168.27155963, 168.47278592,\n",
              "       168.0983574 , 167.09992952, 166.02295424, 165.07090334,\n",
              "       164.09743143, 164.24574439, 164.32102361, 163.5699322 ,\n",
              "       163.24668288, 162.30366948, 160.88470289, 158.5448498 ,\n",
              "       154.02493408, 150.97060094, 147.45507697, 144.40595735,\n",
              "       142.56252246, 142.79878715, 144.97145747, 147.32020912,\n",
              "       148.90542473, 146.65051643, 150.17293246, 153.09907862,\n",
              "       155.92993631, 157.90358135, 158.83496715, 158.09042877,\n",
              "       157.97484204, 157.77038093, 157.99353401, 157.22087709,\n",
              "       156.08095051, 154.64861108, 152.11535753, 151.89573941,\n",
              "       152.5071663 , 152.94605793, 152.74308639, 152.89768003,\n",
              "       151.95771248, 150.55090707, 146.76456355, 143.23924062,\n",
              "       141.7331838 , 143.16101003, 144.01622176, 143.66137451,\n",
              "       145.14807238, 148.13165618, 151.47186027, 154.87355943,\n",
              "       157.3638876 , 160.04691589, 161.74891322, 162.83439243,\n",
              "       163.7159441 , 165.18189906, 166.30514015, 166.4734957 ,\n",
              "       165.74412544, 165.29547375, 165.99402977, 165.58625251,\n",
              "       163.84120196, 162.20340094, 160.21703892, 157.81310622,\n",
              "       155.76179197, 155.40382661, 154.39202032, 154.02074326,\n",
              "       155.27085407, 155.35348669, 153.83543544, 151.41108219,\n",
              "       149.92234448, 146.89029941, 144.03365203, 143.89553267,\n",
              "       137.42658885, 132.50040213, 129.08589705, 127.42638045,\n",
              "       122.95569303, 119.22605905, 114.53309117, 111.67716635,\n",
              "       108.53841643, 107.28182485, 109.16675669, 109.69397245,\n",
              "       111.8411949 , 109.98832787, 108.70571593, 107.98226786,\n",
              "       107.50677043, 105.81508619, 105.8515975 , 107.73112406,\n",
              "       110.61583719, 114.43503477, 117.4728714 , 120.81273089,\n",
              "       121.79950338, 123.15807541, 123.33315629, 122.62705789,\n",
              "       120.12200626, 115.75862396, 110.35013389, 106.32344046,\n",
              "       106.14870141, 104.6778553 , 104.92155121, 106.24504036,\n",
              "       107.26386099, 109.27804698, 112.12893059, 112.68786379,\n",
              "       110.57349541, 109.66643751, 107.99286164, 108.257017  ,\n",
              "       110.08590072, 111.68316356, 113.52134047, 114.39234838,\n",
              "       113.38615024, 111.5830701 , 110.81229183, 110.43792167,\n",
              "       111.39834866, 112.18421724, 114.45856786, 117.72663307,\n",
              "       120.57016884, 121.58129703, 121.63909039, 119.13699568,\n",
              "       119.63821611, 120.52759917, 125.67181439, 129.51063214,\n",
              "       131.73032417, 134.994432  , 138.28051109, 139.92639917,\n",
              "       140.45909524, 140.07918641, 141.2812139 , 141.55130533,\n",
              "       142.48137942, 143.07240799, 144.02748252, 143.94824591,\n",
              "       143.87014317, 142.4409274 , 139.66904139, 137.62815418,\n",
              "       136.26181746, 136.48783297, 134.62051483, 132.90339384,\n",
              "       131.44015124, 129.77591024, 128.96141176, 128.33922435,\n",
              "       127.44787371, 128.13869839, 128.84030026, 130.55376956,\n",
              "       132.89073799, 131.23479527, 130.45096652, 129.10278818,\n",
              "       127.05007328, 125.9847256 , 124.37724415, 121.94308082,\n",
              "       119.90623436, 117.20714865, 115.99502761, 115.03264416,\n",
              "       115.87629499, 115.33293843, 114.26193814, 114.69434344,\n",
              "       117.03897652, 118.58786424, 119.32752259, 117.57017746,\n",
              "       115.92613468, 114.22525453, 113.35256806, 112.68905878,\n",
              "       110.07211935, 111.15911037, 113.04783007, 113.81242493,\n",
              "       114.34113583, 116.24135807, 117.71010877, 118.90303205,\n",
              "       117.73323612, 114.97501754, 109.997257  , 106.28528117,\n",
              "       101.65743782,  96.88897396,  92.94369036,  91.53047643,\n",
              "        90.72944251,  90.15103087,  88.21944137,  91.66296541,\n",
              "        95.61216471,  96.98464315,  97.87593266,  97.54765601,\n",
              "        96.26239841,  95.08510735,  93.66638809,  93.17771235,\n",
              "        93.35772884,  93.21663867,  93.38350464,  92.83693549,\n",
              "        94.26825223,  94.71981916,  94.36501359,  92.76845386,\n",
              "        90.57156124,  89.36224428,  89.53407921,  89.17968078,\n",
              "        89.64478868,  90.81032431,  91.11846388,  89.88636139,\n",
              "        88.84119525,  86.93920275,  85.94279525,  86.1208386 ,\n",
              "        84.98875731,  84.98818483,  84.05574576,  82.9712962 ,\n",
              "        83.40265657,  83.62737566,  84.58353401,  84.85136329,\n",
              "        84.0880857 ,  84.91624187,  85.98160762,  87.70531776,\n",
              "        90.97836027,  92.98399509,  95.29313678,  95.69524475,\n",
              "        95.54829353,  94.60958213,  95.52087253,  96.23306819,\n",
              "        96.14582511,  96.44396284,  97.49110767,  99.39852489,\n",
              "        99.83967034, 101.12102892, 102.73525793, 106.8408517 ,\n",
              "       105.56067422, 104.01080827, 102.96344668, 101.43885352,\n",
              "        99.72451437,  98.44155227,  98.57656464,  98.8237844 ,\n",
              "        99.6215946 ,  98.87265141,  97.96522668,  96.28024276,\n",
              "        95.76277872,  95.52488272,  94.43116082,  93.90643509,\n",
              "        93.83910399,  92.94461579,  92.38409853,  93.27690262,\n",
              "        93.37179923,  93.32321846,  93.44770374,  92.80267522,\n",
              "        91.72862629,  91.81935987,  92.98351709,  94.28412345,\n",
              "        96.6969686 ,  97.69410977,  97.67838862,  98.80228002,\n",
              "        98.6615539 ,  98.51212098,  98.15590365,  97.90062462,\n",
              "        97.41260474,  98.38817484,  99.77228366, 101.1641544 ,\n",
              "       101.63233178, 102.49906549])"
            ]
          },
          "metadata": {},
          "execution_count": 55
        }
      ]
    },
    {
      "cell_type": "code",
      "source": [
        "dummies = np.zeros((X_test.shape[0], lookback+1))\n",
        "dummies[:, 0] = y_test.flatten()\n",
        "dummies = scaler.inverse_transform(dummies)\n",
        "\n",
        "new_y_test = dc(dummies[:, 0])\n",
        "new_y_test"
      ],
      "metadata": {
        "id": "g-DJXBgYsFyI",
        "colab": {
          "base_uri": "https://localhost:8080/"
        },
        "outputId": "3cf6c1e7-a6e0-4090-e6a0-99a45d4703ab"
      },
      "id": "g-DJXBgYsFyI",
      "execution_count": 56,
      "outputs": [
        {
          "output_type": "execute_result",
          "data": {
            "text/plain": [
              "array([170.01749949, 167.07899763, 170.41700626, 171.03700377,\n",
              "       171.0684961 , 169.66949429, 170.66099675, 169.20100565,\n",
              "       168.64449858, 166.71699707, 170.40449492, 167.52200227,\n",
              "       164.35699578, 163.25399737, 162.55400179, 161.48599177,\n",
              "       165.36199892, 165.20699954, 161.21400501, 162.13799851,\n",
              "       158.91749416, 156.29899568, 151.66749509, 142.64300408,\n",
              "       144.54400445, 139.98599336, 138.87249844, 139.63749627,\n",
              "       143.97799855, 149.57350001, 151.19349835, 150.61250219,\n",
              "       138.84550541, 157.63949825, 157.93550165, 161.41349717,\n",
              "       161.18949925, 159.003495  , 153.29350176, 155.1670061 ,\n",
              "       156.51049894, 158.10049453, 154.6524962 , 152.60149876,\n",
              "       150.19749381, 144.82699629, 151.35800212, 153.78849709,\n",
              "       153.56300403, 151.14199678, 152.05250627, 147.89849848,\n",
              "       145.64100565, 137.45300383, 136.01449488, 139.27900567,\n",
              "       146.81750468, 145.52450739, 141.8529947 , 147.36650272,\n",
              "       153.10400311, 157.23899657, 161.25050521, 161.49149987,\n",
              "       164.8890082 , 163.4080074 , 163.64950785, 164.77349929,\n",
              "       168.99049174, 169.31500275, 166.30099379, 162.99749555,\n",
              "       163.55999984, 168.34649425, 164.05499516, 158.75599734,\n",
              "       157.78449856, 154.4604964 , 151.1219931 , 150.78750525,\n",
              "       155.54100108, 151.70649644, 152.78500575, 158.11549591,\n",
              "       153.99799942, 148.29600432, 144.35000372, 146.07400567,\n",
              "       139.39100462, 138.16700588, 144.59649537, 124.2815027 ,\n",
              "       124.50000086, 124.25350088, 125.92849685, 116.40699847,\n",
              "       114.77249899, 108.78900163, 108.85900063, 105.37200234,\n",
              "       106.93049589, 113.05500005, 110.81050072, 115.36850069,\n",
              "       107.11250358, 107.31900035, 107.59100239, 107.55699918,\n",
              "       104.09999809, 106.77500184, 111.07749906, 115.14649953,\n",
              "       120.20950223, 121.68399725, 125.51100121, 122.34999935,\n",
              "       124.79000149, 122.99999961, 121.18000054, 116.15000198,\n",
              "       109.65000214, 103.66999806, 102.30999829, 107.6699986 ,\n",
              "       103.66000386, 106.22000101, 108.67999989, 108.94999683,\n",
              "       112.44000207, 116.45999935, 113.22000127, 107.40000166,\n",
              "       108.91999825, 106.20999917, 109.55999806, 113.50000006,\n",
              "       114.33000152, 116.3300018 , 115.54000075, 111.74999999,\n",
              "       109.22000073, 110.40000137, 110.62999651, 113.55000232,\n",
              "       113.76000211, 118.20999802, 122.76999614, 124.62999702,\n",
              "       122.41999835, 121.13999873, 114.80999825, 120.97000076,\n",
              "       122.28000035, 134.94999758, 135.38999806, 134.16000488,\n",
              "       139.5200031 , 142.57000925, 140.80000272, 139.41000507,\n",
              "       137.83000298, 142.69000357, 140.64000103, 143.55000084,\n",
              "       143.17999102, 144.7799968 , 142.10000324, 142.30000119,\n",
              "       138.22999608, 133.22000121, 133.61999431, 133.80000247,\n",
              "       137.27999891, 130.7499991 , 129.78999174, 128.72999653,\n",
              "       126.76999668, 127.82000117, 127.51000241, 126.11000014,\n",
              "       129.47999576, 129.82000839, 133.27000486, 136.44999605,\n",
              "       126.82000034, 128.55000227, 126.27999811, 123.52999999,\n",
              "       124.66000532, 122.19000322, 118.54000046, 117.30999894,\n",
              "       113.77999884, 115.15000254, 114.41000376, 118.01000286,\n",
              "       114.80000336, 112.99999964, 115.8799967 , 121.08999508,\n",
              "       120.94999707, 120.30000237, 114.55999805, 113.66999803,\n",
              "       112.2099986 , 112.90000206, 112.5299992 , 106.90000263,\n",
              "       113.79000069, 116.36000038, 115.0700003 , 115.25000012,\n",
              "       119.31999967, 119.82000008, 120.59999928, 115.66000341,\n",
              "       110.95999895, 103.41000365, 102.4400021 ,  96.79000116,\n",
              "        92.12000301,  89.30000302,  90.98000304,  90.52999899,\n",
              "        89.98000291,  86.13999884,  96.62999704, 100.79000101,\n",
              "        98.48999791,  98.94000197,  97.1200029 ,  94.84999805,\n",
              "        94.13999897,  92.45999904,  93.199997  ,  94.12999696,\n",
              "        93.410004  ,  93.94999701,  92.41999801,  96.54000095,\n",
              "        95.50000004,  94.12999696,  91.01000197,  88.24999993,\n",
              "        88.45999902,  90.34999813,  89.08999594,  90.55000302,\n",
              "        92.48999797,  91.58000208,  88.44999683,  87.86000102,\n",
              "        84.91999777,  85.19000167,  86.76999681,  83.79000078,\n",
              "        85.25000022,  83.04000085,  81.81999979,  84.17999969,\n",
              "        83.99999987,  85.82000033,  85.13999871,  83.12000309,\n",
              "        86.08000168,  87.3600013 ,  89.87000314,  95.08999606,\n",
              "        95.26999692,  98.12000304,  96.05000307,  95.45999893,\n",
              "        93.68      ,  97.25000011,  97.51999705,  96.32000002,\n",
              "        97.18000006,  99.22000076, 102.2399979 , 100.55000334,\n",
              "       103.12999722, 105.15000257, 112.9100039 , 103.38999927,\n",
              "       102.18000005, 102.11000105, 100.05000292,  98.23999805,\n",
              "        97.61000113,  99.54000066,  99.69999679, 101.16000387,\n",
              "        98.15000197,  97.19999715,  94.58000197,  95.79000102,\n",
              "        95.81999995,  93.5       ,  93.760002  ,  94.23000296,\n",
              "        92.16999798,  92.12999703,  94.90000205,  93.74999998,\n",
              "        93.55000299,  93.919998  ,  92.25000004,  90.73000301,\n",
              "        92.43000003,  94.87999697,  96.19999701, 100.04000108,\n",
              "        98.94999687,  97.70999906, 100.61000119,  98.69999701,\n",
              "        98.70999885,  98.12999689,  98.04000115,  97.23999792,\n",
              "       100.25000017, 102.00000023, 103.290001  , 102.41000421,\n",
              "       103.94999685, 101.09999768])"
            ]
          },
          "metadata": {},
          "execution_count": 56
        }
      ]
    },
    {
      "cell_type": "code",
      "source": [
        "plt.plot(new_y_test, label='Actual Close')\n",
        "plt.plot(test_predictions, label='Predicted Close')\n",
        "plt.xlabel('Day')\n",
        "plt.ylabel('Close')\n",
        "plt.legend()\n",
        "plt.show()\n"
      ],
      "metadata": {
        "colab": {
          "base_uri": "https://localhost:8080/",
          "height": 449
        },
        "id": "PhLmIlHOsSK4",
        "outputId": "53905081-7649-489f-da18-73d10d32c2e1"
      },
      "id": "PhLmIlHOsSK4",
      "execution_count": 57,
      "outputs": [
        {
          "output_type": "display_data",
          "data": {
            "text/plain": [
              "<Figure size 640x480 with 1 Axes>"
            ],
            "image/png": "[encoded data removed]"
          },
          "metadata": {}
        }
      ]
    },
    {
      "cell_type": "code",
      "source": [],
      "metadata": {
        "id": "-CuelDg2seDP"
      },
      "id": "-CuelDg2seDP",
      "execution_count": null,
      "outputs": []
    }
  ],
  "metadata": {
    "kernelspec": {
      "display_name": "Python 3",
      "name": "python3"
    },
    "language_info": {
      "name": "python"
    },
    "colab": {
      "provenance": [],
      "gpuType": "T4"
    },
    "gpuClass": "standard"
  },
  "nbformat": 4,
  "nbformat_minor": 5
}